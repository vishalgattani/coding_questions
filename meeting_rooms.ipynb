{
 "cells": [
  {
   "cell_type": "markdown",
   "metadata": {},
   "source": [
    "# Meeting rooms\n",
    "\n",
    "Given an array of meeting time intervals consisting of start and end times [[s1,e1],[s2,e2],...] (si < ei), find the minimum number of conference rooms required.\n",
    "\n",
    "For example, Given [[0, 30],[5, 10],[15, 20]], return 2."
   ]
  },
  {
   "cell_type": "code",
   "execution_count": 12,
   "metadata": {},
   "outputs": [
    {
     "name": "stdout",
     "output_type": "stream",
     "text": [
      "2\n",
      "3\n"
     ]
    }
   ],
   "source": [
    "import heapq\n",
    "from typing import List\n",
    "\n",
    "def minMeetingRooms(intervals: List[List[int]]) -> int:\n",
    "    if not intervals:\n",
    "        return 0\n",
    "    \n",
    "    # sort intervals by start time\n",
    "    intervals.sort(key=lambda x: x[0])\n",
    "    \n",
    "    # minium heap\n",
    "    rooms = []\n",
    "    heapq.heappush(rooms, intervals[0][1])\n",
    "    for interval in intervals[1:]:\n",
    "        # earliest ending meeting has ended, remove it\n",
    "        if rooms[0] <= interval[0]:\n",
    "            heapq.heappop(rooms)\n",
    "        # add the current meeting's end time\n",
    "        heapq.heappush(rooms, interval[1])\n",
    "    \n",
    "    # size of the heap is the minimum number of rooms required\n",
    "    print(len(rooms))\n",
    "\n",
    "minMeetingRooms([[0, 30],[5, 10],[15, 20]])\n",
    "minMeetingRooms([[0, 30],[5, 20],[15, 20]])"
   ]
  },
  {
   "cell_type": "code",
   "execution_count": null,
   "metadata": {},
   "outputs": [],
   "source": []
  }
 ],
 "metadata": {
  "kernelspec": {
   "display_name": "Python 3",
   "language": "python",
   "name": "python3"
  },
  "language_info": {
   "codemirror_mode": {
    "name": "ipython",
    "version": 3
   },
   "file_extension": ".py",
   "mimetype": "text/x-python",
   "name": "python",
   "nbconvert_exporter": "python",
   "pygments_lexer": "ipython3",
   "version": "3.8.10"
  }
 },
 "nbformat": 4,
 "nbformat_minor": 2
}
