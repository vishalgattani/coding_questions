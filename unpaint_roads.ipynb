{
 "cells": [
  {
   "cell_type": "markdown",
   "metadata": {},
   "source": [
    "# Unpaint Roads\n",
    "\n",
    "We built a brand new interstate road. Then, we painted white lines on it, but in the wrong places. We tried to correct it by painting more lines, sometimes on the existing ones, sometimes not. It was still wrong. We repainted it so many times it is now a total mess.\n",
    "\n",
    "\n",
    "We want to remove all those ugly lines and start over. To do this, we must know which parts of the road are painted. Fortunately, we kept all the logs of our previous paintings.\n",
    "\n",
    "\n",
    "Since it is a straight road, the logs consist of one-dimensional coordinates. For example: (3, 10, 14, 20, 1, 5) means that some white color was painted between the coordinates x=3 and x=10, then some other painted between x=14 and x=20, and between x=1 and x=5. There are overlappings, and nothing is ordered. We really messed up everything.\n",
    "\n",
    "\n",
    "We want the coordinates of all the painted intervals, in numerical order, to know where to put our solvent. With the previous example, the result would be: (1, 10, 14, 20). There is paint between x=1 and x=10, then between x=14 and x=20.\n",
    "\n",
    "## Bonus 1\n",
    "\n",
    "The coordinates are decimal values, not integers.\n",
    "\n",
    "\n",
    "## Bonus 2\n",
    "\n",
    "Multiple painting layers are harder to remove and need another type of solvent. So, we must differentiate the parts with fewer than 5 overlapped layers from those with 5 or more.\n",
    "\n",
    "\n",
    "The output will now consist of a list of integers packed by 3 :\n",
    "- the strength of the needed solvent (1 or 5),\n",
    "- the start coordinate,\n",
    "- the end coordinate.\n",
    "\n",
    "\n",
    "For example, this log: (1, 7, 1, 7, 1, 11, 1, 7, 1, 7) will produce this output: (5, 1, 7, 1, 7, 11).\n",
    "\n",
    "\n",
    "A strong solvent from x=1 to x=7, then a light solvent from x=7 to x=11."
   ]
  },
  {
   "cell_type": "code",
   "execution_count": 29,
   "metadata": {},
   "outputs": [
    {
     "name": "stdout",
     "output_type": "stream",
     "text": [
      "[[1.0, 10.0], [14.0, 20.0]]\n",
      "[(1, 1.0, 3.0), (1, 3.0, 10.0), (1, 10.0, 14.0), (1, 14.0, 20.0)]\n",
      "[[1.0, 11.0]]\n",
      "[(5, 1.0, 7.0), (1, 7.0, 11.0)]\n"
     ]
    }
   ],
   "source": [
    "from typing import List\n",
    "from collections import defaultdict\n",
    "\n",
    "class PaintRoad:\n",
    "    def __init__(self,paint_logs:List[float]):\n",
    "        self.paint_logs = paint_logs\n",
    "        self.intervals = [[float(paint_logs[i]), float(paint_logs[i+1])] for i in range(0, len(paint_logs), 2)]\n",
    "        \n",
    "    def merge_intervals(self):\n",
    "        merged_intervals = []\n",
    "        sorted_intervals = sorted(self.intervals,key=lambda x:x[0])\n",
    "        for interval in sorted_intervals:\n",
    "            if not merged_intervals or merged_intervals[-1][1] < interval[0]:\n",
    "                merged_intervals.append(interval)\n",
    "            else:\n",
    "                merged_intervals[-1][1] = max(merged_intervals[-1][1],interval[1])\n",
    "        return merged_intervals\n",
    "    \n",
    "    def count_overlaps(self,solvent_strength:int=5,solvent_threshold:int=5):\n",
    "        events = defaultdict(int)\n",
    "        for start, end in self.intervals:\n",
    "            events[start] += 1\n",
    "            events[end] -= 1\n",
    "\n",
    "        result = []\n",
    "        current_count = 0\n",
    "        last_point = None\n",
    "        for point in sorted(events.keys()):\n",
    "            if last_point is not None:\n",
    "                solvent_strength = solvent_strength if current_count >= solvent_threshold else 1\n",
    "                result.append((solvent_strength, last_point, point))\n",
    "            \n",
    "            current_count += events[point]\n",
    "            last_point = point\n",
    "        \n",
    "        return result\n",
    "\n",
    "\n",
    "paint_logs = [[3, 10, 14, 20, 1, 5],[1.0, 7.0, 1.0, 7.0, 1.0, 11.0, 1.0, 7.0, 1.0, 7.0]]\n",
    "for paint_log in paint_logs:\n",
    "    paint_road = PaintRoad(paint_log)\n",
    "    print(paint_road.merge_intervals())\n",
    "    print(paint_road.count_overlaps())"
   ]
  },
  {
   "cell_type": "code",
   "execution_count": null,
   "metadata": {},
   "outputs": [],
   "source": []
  }
 ],
 "metadata": {
  "kernelspec": {
   "display_name": "Python 3",
   "language": "python",
   "name": "python3"
  },
  "language_info": {
   "codemirror_mode": {
    "name": "ipython",
    "version": 3
   },
   "file_extension": ".py",
   "mimetype": "text/x-python",
   "name": "python",
   "nbconvert_exporter": "python",
   "pygments_lexer": "ipython3",
   "version": "3.8.10"
  }
 },
 "nbformat": 4,
 "nbformat_minor": 2
}
