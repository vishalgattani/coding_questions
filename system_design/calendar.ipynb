{
 "cells": [
  {
   "cell_type": "markdown",
   "metadata": {},
   "source": [
    "# Calendar API\n",
    "\n",
    "Create a function that takes a list of events and returns the earliest available time where all people can attend."
   ]
  },
  {
   "cell_type": "code",
   "execution_count": 75,
   "metadata": {},
   "outputs": [
    {
     "name": "stdout",
     "output_type": "stream",
     "text": [
      "For person 0 earliest available time is 6.57\n",
      "For person 1 earliest available time is 6\n",
      "For person 2 earliest available time is 6.43\n",
      "6.57\n",
      "For person 0 earliest available time is 0\n",
      "For person 1 earliest available time is 0\n",
      "For person 2 earliest available time is 6.66\n",
      "6.66\n"
     ]
    }
   ],
   "source": [
    "from typing import List, Tuple\n",
    "from collections import defaultdict\n",
    "\n",
    "class MyCalendar:\n",
    "    \"\"\"Calendar class as an API template\n",
    "    \"\"\"\n",
    "    def __init__(self,times):\n",
    "        \"\"\"initialize the calendar with the given times\n",
    "\n",
    "        Args:\n",
    "            times (_type_): dictionary with persons as keys and their busy time in a day from 0-24 as values\n",
    "        \"\"\"\n",
    "        self.times = times\n",
    "        self.available_times = self.get_earliest_available_time()\n",
    "    \n",
    "    def decimal2mins(self,time:float)->int: \n",
    "        \"\"\"convert decimal time in hours to minutes\n",
    "\n",
    "        Args:\n",
    "            time (float): _description_\n",
    "\n",
    "        Returns:\n",
    "            int: _description_\n",
    "        \"\"\"\n",
    "        hrs = int(time) \n",
    "        mins = int((time-hrs)*60) \n",
    "        t = hrs*60 + mins \n",
    "        return t\n",
    "\n",
    "    def mins2decimal(self,time:int,decimals:int = 2)->float: \n",
    "        \"\"\"convert minutes into decimal time in hours\n",
    "\n",
    "        Args:\n",
    "            time (int): _description_\n",
    "            decimals (int, optional): _description_. Defaults to 2.\n",
    "\n",
    "        Returns:\n",
    "            float: _description_\n",
    "        \"\"\"\n",
    "        hrs = time//60 \n",
    "        mins = (time%60)/60 \n",
    "        return round(hrs+mins,2)\n",
    "\n",
    "    def str2time(self,start:float,end:float) -> List[int]:\n",
    "        \"\"\"convert start and end time in decimal format to minutes\n",
    "\n",
    "        Args:\n",
    "            start (float): _description_\n",
    "            end (float): _description_\n",
    "\n",
    "        Returns:\n",
    "            List[int]: _description_\n",
    "        \"\"\"\n",
    "        return [self.decimal2mins(start),self.decimal2mins(end)]\n",
    "    \n",
    "    def merge_intervals(self,intervals:List[List[float]]):\n",
    "        merged_intervals = []\n",
    "        sorted_intervals = sorted(intervals,key=lambda x:x[0])\n",
    "        for interval in sorted_intervals:\n",
    "            if not merged_intervals or merged_intervals[-1][1] < interval[0]:\n",
    "                merged_intervals.append(interval)\n",
    "            else:\n",
    "                merged_intervals[-1][1] = max(merged_intervals[-1][1],interval[1])\n",
    "        return merged_intervals\n",
    "\n",
    "    def check_earliest(self,busy:List[List]):\n",
    "        if not busy or not busy[0]:\n",
    "            return (float('inf'),True)\n",
    "        earliest = float('inf')\n",
    "        busy = self.merge_intervals(intervals=busy)\n",
    "        is_start_zero = busy[0][0] == 0\n",
    "        if not is_start_zero:\n",
    "            earliest = 0\n",
    "            return (earliest,is_start_zero) \n",
    "        for times in busy:\n",
    "            start,end = times[0],times[1]\n",
    "            if start == 0:\n",
    "                is_start_zero = True\n",
    "            if end <= earliest:\n",
    "                earliest = end\n",
    "        return (earliest,is_start_zero) \n",
    "\n",
    "    def get_earliest_available_time(self) -> float:\n",
    "        \"\"\"given a list of persons busy time, find the earliest available time\n",
    "\n",
    "        Returns:\n",
    "            float: _description_\n",
    "        \"\"\"\n",
    "        earliest_available_times = defaultdict(float)\n",
    "        zeros = [] \n",
    "        for person , time_slots in self.times.items(): \n",
    "            earliest, is_start_zero = self.check_earliest(time_slots) \n",
    "            print(f\"For person {person} earliest available time is {earliest}\")\n",
    "            earliest_available_times[person] = earliest \n",
    "            zeros.append(is_start_zero) \n",
    "        earliest_available = (max(earliest_available_times.values()) if any(zeros) else 0) \n",
    "        return earliest_available\n",
    "\n",
    "times = {\n",
    "    0: [[0, 6.57], [9, 10],[0.20,2]], \n",
    "    1: [[0, 6], [11, 12]],\n",
    "    2: [[0,6.43]]\n",
    "}\n",
    "cal = MyCalendar(times=times)\n",
    "print(cal.available_times)\n",
    "times = {\n",
    "    0: [[1, 6.57], [9, 10],[1.20,2]], \n",
    "    1: [[1, 6], [11, 12]],\n",
    "    2: [[0,6.66]]\n",
    "}\n",
    "cal = MyCalendar(times=times)\n",
    "print(cal.available_times)\n",
    "\n",
    "\n",
    "\n",
    "\n",
    "\n",
    "\n",
    "\n",
    "\n"
   ]
  },
  {
   "cell_type": "code",
   "execution_count": 3,
   "metadata": {},
   "outputs": [
    {
     "name": "stdout",
     "output_type": "stream",
     "text": [
      "Requirement already satisfied: mimesis in /home/vishal/.local/lib/python3.8/site-packages (12.1.0)\n"
     ]
    }
   ],
   "source": [
    "!pip install mimesis"
   ]
  },
  {
   "cell_type": "code",
   "execution_count": 50,
   "metadata": {},
   "outputs": [
    {
     "name": "stdout",
     "output_type": "stream",
     "text": [
      "\n",
      "Frank Mcintyre\n",
      "2020-07-19\n",
      "  2020-07-19 08:42:05.387013 - 2020-07-19 10:46:05.387013 : Gallery Owner\n",
      "  2020-07-19 14:50:34.292454 - 2020-07-19 16:17:34.292454 : Anaesthetist\n",
      "2020-07-20\n",
      "  2020-07-20 10:10:40.612609 - 2020-07-20 12:51:40.612609 : Miner\n",
      "  2020-07-20 15:28:20.518881 - 2020-07-20 15:58:20.518881 : Tax Inspector\n",
      "  2020-07-20 22:18:58.576999 - 2020-07-21 00:37:58.576999 : Stockman\n",
      "\n",
      "Cherlyn Scott\n",
      "2020-07-19\n",
      "  2020-07-19 05:25:42.692899 - 2020-07-19 09:48:56.924502 : Editor\n",
      "  2020-07-19 13:14:44.644294 - 2020-07-19 15:33:44.644294 : Recorder\n",
      "2020-07-20\n",
      "  2020-07-20 17:44:28.616553 - 2020-07-20 19:36:28.616553 : Hotelier\n",
      "  2020-07-20 22:41:52.442297 - 2020-07-21 00:55:52.442297 : Youth Worker\n"
     ]
    }
   ],
   "source": [
    "from mimesis import Datetime, Person\n",
    "from mimesis.locales import Locale\n",
    "from datetime import datetime, timedelta, time\n",
    "from collections import defaultdict\n",
    "import random\n",
    "from typing import List, Dict, Optional\n",
    "import json\n",
    "\n",
    "class SceduleGenerator:\n",
    "    def __init__(self, start_year=2020, end_year=2020, n_persons=2, n_days=7, min_activites=1, max_activites=4, locale=Locale.EN):\n",
    "        self.locale = locale\n",
    "        self.date_gen = Datetime(locale=locale)\n",
    "        self.person_gen = Person(locale=locale)\n",
    "        self.start_year = start_year\n",
    "        self.end_year = end_year\n",
    "        self.n_persons = n_persons\n",
    "        self.n_days = n_days\n",
    "        self.min_activites = min_activites\n",
    "        self.max_activites = max_activites\n",
    "        self.schedules = self.generate_weekly_schedule(start_year=self.start_year,end_year=self.end_year, n_persons=self.n_persons,n_days=self.n_days,min_activites=self.min_activites,max_activites=self.max_activites)\n",
    "\n",
    "    def generate_weekly_schedule(self,start_year=2020, end_year=2020,n_persons=2,n_days=7,min_activites=1,max_activites=4,min_duration=30,max_duration=180):\n",
    "        date_gen = Datetime(locale=Locale.EN)\n",
    "        person_gen = Person(Locale.EN)\n",
    "        start_datetime = date_gen.datetime(start=start_year,end=end_year)\n",
    "        schedules = defaultdict(list)\n",
    "        for n_persons in range(n_persons):\n",
    "            person_name = person_gen.full_name()\n",
    "            for day in range(n_days):\n",
    "                current_date = start_datetime + timedelta(days=day)\n",
    "                \n",
    "                # Generate 2-4 busy time slots for each day\n",
    "                daily_schedule = []\n",
    "                for _ in range(random.randint(min_activites, max_activites)):\n",
    "                    start_time = date_gen.time()\n",
    "                    duration = timedelta(minutes=random.randint(min_duration, max_duration))  # 30 minutes to 3 hours\n",
    "                    end_time = (datetime.combine(current_date, start_time) + duration).time()\n",
    "                    \n",
    "                    activity = person_gen.occupation() # Generate a random activity (using occupation as an example)\n",
    "                    \n",
    "                    # Create datetime objects for start and end times\n",
    "                    start_dt = datetime.combine(current_date, start_time)\n",
    "                    end_dt = start_dt + duration  # Add duration to start_datetime\n",
    "                    daily_schedule.append({\n",
    "                        'start': start_dt,\n",
    "                        'end': end_dt,\n",
    "                        'activity': activity\n",
    "                    })\n",
    "                    \n",
    "                \n",
    "                # Sort the daily schedule by start time\n",
    "                daily_schedule.sort(key=lambda x: x['start'])\n",
    "                daily_schedule = self.merge_intervals(daily_schedule)\n",
    "                \n",
    "                schedules[person_name].append({\n",
    "                    'date': current_date.date(),\n",
    "                    'activities': daily_schedule\n",
    "                })\n",
    "            \n",
    "        return schedules\n",
    "\n",
    "\n",
    "    def jsonify_schedule(self,schedules:List[Dict]):\n",
    "        return json.dumps(schedules,indent=4)\n",
    "\n",
    "    def time_to_minutes(self,t:datetime):\n",
    "        return t.hour * 60 + t.minute\n",
    "\n",
    "    def minutes_to_time(self,m):\n",
    "        hours, minutes = divmod(m, 60)\n",
    "        return time(hours % 24, minutes)\n",
    "\n",
    "    def merge_intervals(self,intervals):\n",
    "        # Sort the intervals based on the start time\n",
    "        intervals_sorted = sorted(intervals, key=lambda x: x['start'])\n",
    "\n",
    "        merged = []\n",
    "        for interval in intervals_sorted:\n",
    "            # If merged is empty or if current interval doesn't overlap with the previous one\n",
    "            if not merged or merged[-1]['end'] < interval['start']:\n",
    "                merged.append(interval)\n",
    "            else:\n",
    "                # Update the end time of the previous interval if necessary\n",
    "                merged[-1]['end'] = max(merged[-1]['end'], interval['end'])\n",
    "\n",
    "        return merged\n",
    "\n",
    "schedules = SceduleGenerator(n_days=2).schedules\n",
    "\n",
    "# Print the schedule\n",
    "for k,v in schedules.items():\n",
    "    print(f\"\\n{k}\")\n",
    "    for day in v:\n",
    "        print(f\"{day['date']}\")\n",
    "        for activity in day['activities']:\n",
    "            print(f\"  {activity['start']} - {activity['end']} : {activity['activity']}\")"
   ]
  },
  {
   "cell_type": "code",
   "execution_count": 67,
   "metadata": {},
   "outputs": [
    {
     "name": "stdout",
     "output_type": "stream",
     "text": [
      "Tristan Ingram on 2020-01-21 is first free after 2020-01-21 02:19:29.419626\n",
      "Tristan Ingram on 2020-01-22 is first free after 2020-01-22 08:09:30.921953\n",
      "Rex Levy on 2020-01-21 is first free after 2020-01-21 04:22:26.385936\n",
      "Rex Levy on 2020-01-22 is first free after 2020-01-22 08:52:20.568455\n",
      "Cortez Mclaughlin on 2020-01-21 is first free after 2020-01-21 02:10:37.397160\n",
      "Cortez Mclaughlin on 2020-01-22 is first free after 2020-01-22 05:39:22.536454\n",
      "Perry Mcneil on 2020-01-21 is first free after 2020-01-21 08:35:43.947230\n",
      "Perry Mcneil on 2020-01-22 is first free after 2020-01-22 02:26:23.975051\n",
      "Julee Jarvis on 2020-01-21 is first free after 2020-01-21 08:03:02.673214\n",
      "Julee Jarvis on 2020-01-22 is first free after 2020-01-22 05:08:11.673735\n",
      "Earliest time on 2020-01-21 is 2020-01-21 02:19:29.419626\n",
      "Earliest time on 2020-01-22 is 2020-01-22 19:11:35.288968\n",
      "defaultdict(<class 'list'>, {datetime.date(2020, 1, 21): [[datetime.datetime(2020, 1, 21, 1, 14, 37, 397160), datetime.datetime(2020, 1, 21, 2, 19, 29, 419626)], [datetime.datetime(2020, 1, 21, 2, 33, 26, 385936), datetime.datetime(2020, 1, 21, 4, 52, 22, 123431)], [datetime.datetime(2020, 1, 21, 5, 40, 7, 336961), datetime.datetime(2020, 1, 21, 10, 54, 6, 264179)], [datetime.datetime(2020, 1, 21, 11, 32, 44, 552815), datetime.datetime(2020, 1, 22, 2, 23, 12, 819173)]], datetime.date(2020, 1, 22): [[datetime.datetime(2020, 1, 22, 0, 50, 23, 975051), datetime.datetime(2020, 1, 22, 19, 11, 35, 288968)], [datetime.datetime(2020, 1, 22, 19, 28, 49, 6171), datetime.datetime(2020, 1, 22, 20, 49, 49, 6171)], [datetime.datetime(2020, 1, 22, 21, 41, 4, 304529), datetime.datetime(2020, 1, 22, 22, 11, 4, 304529)], [datetime.datetime(2020, 1, 22, 23, 3, 38, 628913), datetime.datetime(2020, 1, 22, 23, 42, 38, 628913)]]})\n"
     ]
    },
    {
     "data": {
      "application/vnd.plotly.v1+json": {
       "config": {
        "plotlyServerURL": "https://plot.ly"
       },
       "data": [
        {
         "alignmentgroup": "True",
         "base": [
          "2020-01-21T01:16:29.419626",
          "2020-01-21T05:54:46.134879",
          "2020-01-21T08:58:04.124997",
          "2020-01-21T11:32:44.552815",
          "2020-01-21T17:17:53.276539",
          "2020-01-21T21:30:16.511487"
         ],
         "customdata": [
          [
           "Technical Director"
          ],
          [
           "Portfolio Manager"
          ],
          [
           "Tyre Inspector"
          ],
          [
           "Museum Attendant"
          ],
          [
           "Cargo Operator"
          ],
          [
           "Branch Manager"
          ]
         ],
         "hovertemplate": "Person=Tristan Ingram<br>Start=%{base}<br>Finish=%{x}<br>Task=%{y}<br>Activity=%{customdata[0]}<extra></extra>",
         "legendgroup": "Tristan Ingram",
         "marker": {
          "color": "#636efa",
          "pattern": {
           "shape": ""
          }
         },
         "name": "Tristan Ingram",
         "offsetgroup": "Tristan Ingram",
         "orientation": "h",
         "showlegend": true,
         "textposition": "auto",
         "type": "bar",
         "x": [
          3780000,
          5040000,
          4920000,
          53428266.358,
          15128321.638,
          10140000
         ],
         "xaxis": "x",
         "y": [
          "Tristan Ingram",
          "Tristan Ingram",
          "Tristan Ingram",
          "Tristan Ingram",
          "Tristan Ingram",
          "Tristan Ingram"
         ],
         "yaxis": "y"
        },
        {
         "alignmentgroup": "True",
         "base": [
          "2020-01-21T02:33:26.385936",
          "2020-01-21T08:28:59.269383",
          "2020-01-21T12:03:01.937223",
          "2020-01-21T16:48:53.764527",
          "2020-01-21T21:14:43.740012"
         ],
         "customdata": [
          [
           "Literary Editor"
          ],
          [
           "Psychoanalyst"
          ],
          [
           "Geologist"
          ],
          [
           "Service Manager"
          ],
          [
           "History Teacher"
          ]
         ],
         "hovertemplate": "Person=Rex Levy<br>Start=%{base}<br>Finish=%{x}<br>Task=%{y}<br>Activity=%{customdata[0]}<extra></extra>",
         "legendgroup": "Rex Levy",
         "marker": {
          "color": "#EF553B",
          "pattern": {
           "shape": ""
          }
         },
         "name": "Rex Levy",
         "offsetgroup": "Rex Levy",
         "orientation": "h",
         "showlegend": true,
         "textposition": "auto",
         "type": "bar",
         "x": [
          8335737.495,
          6180000,
          6120000,
          12438207.705,
          10380000
         ],
         "xaxis": "x",
         "y": [
          "Rex Levy",
          "Rex Levy",
          "Rex Levy",
          "Rex Levy",
          "Rex Levy"
         ],
         "yaxis": "y"
        },
        {
         "alignmentgroup": "True",
         "base": [
          "2020-01-21T01:14:37.397160",
          "2020-01-21T03:50:22.123431",
          "2020-01-21T12:53:34.646941",
          "2020-01-21T13:51:44.387478",
          "2020-01-21T20:22:05.446954",
          "2020-01-21T21:57:07.946961",
          "2020-01-21T23:38:12.819173"
         ],
         "customdata": [
          [
           "Line Manager"
          ],
          [
           "Traffic Warden"
          ],
          [
           "Radio Engineer"
          ],
          [
           "Piano Tuner"
          ],
          [
           "Ironmonger"
          ],
          [
           "Gambler"
          ],
          [
           "Forensic Scientist"
          ]
         ],
         "hovertemplate": "Person=Cortez Mclaughlin<br>Start=%{base}<br>Finish=%{x}<br>Task=%{y}<br>Activity=%{customdata[0]}<extra></extra>",
         "legendgroup": "Cortez Mclaughlin",
         "marker": {
          "color": "#00cc96",
          "pattern": {
           "shape": ""
          }
         },
         "name": "Cortez Mclaughlin",
         "offsetgroup": "Cortez Mclaughlin",
         "orientation": "h",
         "showlegend": true,
         "textposition": "auto",
         "type": "bar",
         "x": [
          3892022.466,
          3720000,
          2460000,
          6300000,
          2580000,
          4260000,
          9900000
         ],
         "xaxis": "x",
         "y": [
          "Cortez Mclaughlin",
          "Cortez Mclaughlin",
          "Cortez Mclaughlin",
          "Cortez Mclaughlin",
          "Cortez Mclaughlin",
          "Cortez Mclaughlin",
          "Cortez Mclaughlin"
         ],
         "yaxis": "y"
        },
        {
         "alignmentgroup": "True",
         "base": [
          "2020-01-21T05:40:07.336961",
          "2020-01-21T09:22:27.551721",
          "2020-01-21T11:34:09.364164",
          "2020-01-21T14:45:55.888206",
          "2020-01-21T19:40:04.054516",
          "2020-01-21T21:42:04.350733"
         ],
         "customdata": [
          [
           "Librarian"
          ],
          [
           "Balloonist"
          ],
          [
           "Hypnotherapist"
          ],
          [
           "Professional Boxer"
          ],
          [
           "Producer"
          ],
          [
           "Granite Technician"
          ]
         ],
         "hovertemplate": "Person=Perry Mcneil<br>Start=%{base}<br>Finish=%{x}<br>Task=%{y}<br>Activity=%{customdata[0]}<extra></extra>",
         "legendgroup": "Perry Mcneil",
         "marker": {
          "color": "#ab63fa",
          "pattern": {
           "shape": ""
          }
         },
         "name": "Perry Mcneil",
         "offsetgroup": "Perry Mcneil",
         "orientation": "h",
         "showlegend": true,
         "textposition": "auto",
         "type": "bar",
         "x": [
          18838927.218,
          2640000,
          9480000,
          10236335.684,
          6660000,
          9120000
         ],
         "xaxis": "x",
         "y": [
          "Perry Mcneil",
          "Perry Mcneil",
          "Perry Mcneil",
          "Perry Mcneil",
          "Perry Mcneil",
          "Perry Mcneil"
         ],
         "yaxis": "y"
        },
        {
         "alignmentgroup": "True",
         "base": [
          "2020-01-21T05:51:48.545753",
          "2020-01-21T09:28:28.741289",
          "2020-01-21T14:25:45.157661",
          "2020-01-21T17:31:24.215709",
          "2020-01-21T22:47:46.771243"
         ],
         "customdata": [
          [
           "Typist"
          ],
          [
           "Training Consultant"
          ],
          [
           "Valuer"
          ],
          [
           "Marketing Manager"
          ],
          [
           "Plate Layer"
          ]
         ],
         "hovertemplate": "Person=Julee Jarvis<br>Start=%{base}<br>Finish=%{x}<br>Task=%{y}<br>Activity=%{customdata[0]}<extra></extra>",
         "legendgroup": "Julee Jarvis",
         "marker": {
          "color": "#FFA15A",
          "pattern": {
           "shape": ""
          }
         },
         "name": "Julee Jarvis",
         "offsetgroup": "Julee Jarvis",
         "orientation": "h",
         "showlegend": true,
         "textposition": "auto",
         "type": "bar",
         "x": [
          7874127.461,
          5137522.89,
          8820000,
          5160000,
          9060000
         ],
         "xaxis": "x",
         "y": [
          "Julee Jarvis",
          "Julee Jarvis",
          "Julee Jarvis",
          "Julee Jarvis",
          "Julee Jarvis"
         ],
         "yaxis": "y"
        }
       ],
       "layout": {
        "barmode": "overlay",
        "legend": {
         "title": {
          "text": "Person"
         },
         "tracegroupgap": 0
        },
        "template": {
         "data": {
          "bar": [
           {
            "error_x": {
             "color": "#2a3f5f"
            },
            "error_y": {
             "color": "#2a3f5f"
            },
            "marker": {
             "line": {
              "color": "#E5ECF6",
              "width": 0.5
             },
             "pattern": {
              "fillmode": "overlay",
              "size": 10,
              "solidity": 0.2
             }
            },
            "type": "bar"
           }
          ],
          "barpolar": [
           {
            "marker": {
             "line": {
              "color": "#E5ECF6",
              "width": 0.5
             },
             "pattern": {
              "fillmode": "overlay",
              "size": 10,
              "solidity": 0.2
             }
            },
            "type": "barpolar"
           }
          ],
          "carpet": [
           {
            "aaxis": {
             "endlinecolor": "#2a3f5f",
             "gridcolor": "white",
             "linecolor": "white",
             "minorgridcolor": "white",
             "startlinecolor": "#2a3f5f"
            },
            "baxis": {
             "endlinecolor": "#2a3f5f",
             "gridcolor": "white",
             "linecolor": "white",
             "minorgridcolor": "white",
             "startlinecolor": "#2a3f5f"
            },
            "type": "carpet"
           }
          ],
          "choropleth": [
           {
            "colorbar": {
             "outlinewidth": 0,
             "ticks": ""
            },
            "type": "choropleth"
           }
          ],
          "contour": [
           {
            "colorbar": {
             "outlinewidth": 0,
             "ticks": ""
            },
            "colorscale": [
             [
              0,
              "#0d0887"
             ],
             [
              0.1111111111111111,
              "#46039f"
             ],
             [
              0.2222222222222222,
              "#7201a8"
             ],
             [
              0.3333333333333333,
              "#9c179e"
             ],
             [
              0.4444444444444444,
              "#bd3786"
             ],
             [
              0.5555555555555556,
              "#d8576b"
             ],
             [
              0.6666666666666666,
              "#ed7953"
             ],
             [
              0.7777777777777778,
              "#fb9f3a"
             ],
             [
              0.8888888888888888,
              "#fdca26"
             ],
             [
              1,
              "#f0f921"
             ]
            ],
            "type": "contour"
           }
          ],
          "contourcarpet": [
           {
            "colorbar": {
             "outlinewidth": 0,
             "ticks": ""
            },
            "type": "contourcarpet"
           }
          ],
          "heatmap": [
           {
            "colorbar": {
             "outlinewidth": 0,
             "ticks": ""
            },
            "colorscale": [
             [
              0,
              "#0d0887"
             ],
             [
              0.1111111111111111,
              "#46039f"
             ],
             [
              0.2222222222222222,
              "#7201a8"
             ],
             [
              0.3333333333333333,
              "#9c179e"
             ],
             [
              0.4444444444444444,
              "#bd3786"
             ],
             [
              0.5555555555555556,
              "#d8576b"
             ],
             [
              0.6666666666666666,
              "#ed7953"
             ],
             [
              0.7777777777777778,
              "#fb9f3a"
             ],
             [
              0.8888888888888888,
              "#fdca26"
             ],
             [
              1,
              "#f0f921"
             ]
            ],
            "type": "heatmap"
           }
          ],
          "heatmapgl": [
           {
            "colorbar": {
             "outlinewidth": 0,
             "ticks": ""
            },
            "colorscale": [
             [
              0,
              "#0d0887"
             ],
             [
              0.1111111111111111,
              "#46039f"
             ],
             [
              0.2222222222222222,
              "#7201a8"
             ],
             [
              0.3333333333333333,
              "#9c179e"
             ],
             [
              0.4444444444444444,
              "#bd3786"
             ],
             [
              0.5555555555555556,
              "#d8576b"
             ],
             [
              0.6666666666666666,
              "#ed7953"
             ],
             [
              0.7777777777777778,
              "#fb9f3a"
             ],
             [
              0.8888888888888888,
              "#fdca26"
             ],
             [
              1,
              "#f0f921"
             ]
            ],
            "type": "heatmapgl"
           }
          ],
          "histogram": [
           {
            "marker": {
             "pattern": {
              "fillmode": "overlay",
              "size": 10,
              "solidity": 0.2
             }
            },
            "type": "histogram"
           }
          ],
          "histogram2d": [
           {
            "colorbar": {
             "outlinewidth": 0,
             "ticks": ""
            },
            "colorscale": [
             [
              0,
              "#0d0887"
             ],
             [
              0.1111111111111111,
              "#46039f"
             ],
             [
              0.2222222222222222,
              "#7201a8"
             ],
             [
              0.3333333333333333,
              "#9c179e"
             ],
             [
              0.4444444444444444,
              "#bd3786"
             ],
             [
              0.5555555555555556,
              "#d8576b"
             ],
             [
              0.6666666666666666,
              "#ed7953"
             ],
             [
              0.7777777777777778,
              "#fb9f3a"
             ],
             [
              0.8888888888888888,
              "#fdca26"
             ],
             [
              1,
              "#f0f921"
             ]
            ],
            "type": "histogram2d"
           }
          ],
          "histogram2dcontour": [
           {
            "colorbar": {
             "outlinewidth": 0,
             "ticks": ""
            },
            "colorscale": [
             [
              0,
              "#0d0887"
             ],
             [
              0.1111111111111111,
              "#46039f"
             ],
             [
              0.2222222222222222,
              "#7201a8"
             ],
             [
              0.3333333333333333,
              "#9c179e"
             ],
             [
              0.4444444444444444,
              "#bd3786"
             ],
             [
              0.5555555555555556,
              "#d8576b"
             ],
             [
              0.6666666666666666,
              "#ed7953"
             ],
             [
              0.7777777777777778,
              "#fb9f3a"
             ],
             [
              0.8888888888888888,
              "#fdca26"
             ],
             [
              1,
              "#f0f921"
             ]
            ],
            "type": "histogram2dcontour"
           }
          ],
          "mesh3d": [
           {
            "colorbar": {
             "outlinewidth": 0,
             "ticks": ""
            },
            "type": "mesh3d"
           }
          ],
          "parcoords": [
           {
            "line": {
             "colorbar": {
              "outlinewidth": 0,
              "ticks": ""
             }
            },
            "type": "parcoords"
           }
          ],
          "pie": [
           {
            "automargin": true,
            "type": "pie"
           }
          ],
          "scatter": [
           {
            "fillpattern": {
             "fillmode": "overlay",
             "size": 10,
             "solidity": 0.2
            },
            "type": "scatter"
           }
          ],
          "scatter3d": [
           {
            "line": {
             "colorbar": {
              "outlinewidth": 0,
              "ticks": ""
             }
            },
            "marker": {
             "colorbar": {
              "outlinewidth": 0,
              "ticks": ""
             }
            },
            "type": "scatter3d"
           }
          ],
          "scattercarpet": [
           {
            "marker": {
             "colorbar": {
              "outlinewidth": 0,
              "ticks": ""
             }
            },
            "type": "scattercarpet"
           }
          ],
          "scattergeo": [
           {
            "marker": {
             "colorbar": {
              "outlinewidth": 0,
              "ticks": ""
             }
            },
            "type": "scattergeo"
           }
          ],
          "scattergl": [
           {
            "marker": {
             "colorbar": {
              "outlinewidth": 0,
              "ticks": ""
             }
            },
            "type": "scattergl"
           }
          ],
          "scattermapbox": [
           {
            "marker": {
             "colorbar": {
              "outlinewidth": 0,
              "ticks": ""
             }
            },
            "type": "scattermapbox"
           }
          ],
          "scatterpolar": [
           {
            "marker": {
             "colorbar": {
              "outlinewidth": 0,
              "ticks": ""
             }
            },
            "type": "scatterpolar"
           }
          ],
          "scatterpolargl": [
           {
            "marker": {
             "colorbar": {
              "outlinewidth": 0,
              "ticks": ""
             }
            },
            "type": "scatterpolargl"
           }
          ],
          "scatterternary": [
           {
            "marker": {
             "colorbar": {
              "outlinewidth": 0,
              "ticks": ""
             }
            },
            "type": "scatterternary"
           }
          ],
          "surface": [
           {
            "colorbar": {
             "outlinewidth": 0,
             "ticks": ""
            },
            "colorscale": [
             [
              0,
              "#0d0887"
             ],
             [
              0.1111111111111111,
              "#46039f"
             ],
             [
              0.2222222222222222,
              "#7201a8"
             ],
             [
              0.3333333333333333,
              "#9c179e"
             ],
             [
              0.4444444444444444,
              "#bd3786"
             ],
             [
              0.5555555555555556,
              "#d8576b"
             ],
             [
              0.6666666666666666,
              "#ed7953"
             ],
             [
              0.7777777777777778,
              "#fb9f3a"
             ],
             [
              0.8888888888888888,
              "#fdca26"
             ],
             [
              1,
              "#f0f921"
             ]
            ],
            "type": "surface"
           }
          ],
          "table": [
           {
            "cells": {
             "fill": {
              "color": "#EBF0F8"
             },
             "line": {
              "color": "white"
             }
            },
            "header": {
             "fill": {
              "color": "#C8D4E3"
             },
             "line": {
              "color": "white"
             }
            },
            "type": "table"
           }
          ]
         },
         "layout": {
          "annotationdefaults": {
           "arrowcolor": "#2a3f5f",
           "arrowhead": 0,
           "arrowwidth": 1
          },
          "autotypenumbers": "strict",
          "coloraxis": {
           "colorbar": {
            "outlinewidth": 0,
            "ticks": ""
           }
          },
          "colorscale": {
           "diverging": [
            [
             0,
             "#8e0152"
            ],
            [
             0.1,
             "#c51b7d"
            ],
            [
             0.2,
             "#de77ae"
            ],
            [
             0.3,
             "#f1b6da"
            ],
            [
             0.4,
             "#fde0ef"
            ],
            [
             0.5,
             "#f7f7f7"
            ],
            [
             0.6,
             "#e6f5d0"
            ],
            [
             0.7,
             "#b8e186"
            ],
            [
             0.8,
             "#7fbc41"
            ],
            [
             0.9,
             "#4d9221"
            ],
            [
             1,
             "#276419"
            ]
           ],
           "sequential": [
            [
             0,
             "#0d0887"
            ],
            [
             0.1111111111111111,
             "#46039f"
            ],
            [
             0.2222222222222222,
             "#7201a8"
            ],
            [
             0.3333333333333333,
             "#9c179e"
            ],
            [
             0.4444444444444444,
             "#bd3786"
            ],
            [
             0.5555555555555556,
             "#d8576b"
            ],
            [
             0.6666666666666666,
             "#ed7953"
            ],
            [
             0.7777777777777778,
             "#fb9f3a"
            ],
            [
             0.8888888888888888,
             "#fdca26"
            ],
            [
             1,
             "#f0f921"
            ]
           ],
           "sequentialminus": [
            [
             0,
             "#0d0887"
            ],
            [
             0.1111111111111111,
             "#46039f"
            ],
            [
             0.2222222222222222,
             "#7201a8"
            ],
            [
             0.3333333333333333,
             "#9c179e"
            ],
            [
             0.4444444444444444,
             "#bd3786"
            ],
            [
             0.5555555555555556,
             "#d8576b"
            ],
            [
             0.6666666666666666,
             "#ed7953"
            ],
            [
             0.7777777777777778,
             "#fb9f3a"
            ],
            [
             0.8888888888888888,
             "#fdca26"
            ],
            [
             1,
             "#f0f921"
            ]
           ]
          },
          "colorway": [
           "#636efa",
           "#EF553B",
           "#00cc96",
           "#ab63fa",
           "#FFA15A",
           "#19d3f3",
           "#FF6692",
           "#B6E880",
           "#FF97FF",
           "#FECB52"
          ],
          "font": {
           "color": "#2a3f5f"
          },
          "geo": {
           "bgcolor": "white",
           "lakecolor": "white",
           "landcolor": "#E5ECF6",
           "showlakes": true,
           "showland": true,
           "subunitcolor": "white"
          },
          "hoverlabel": {
           "align": "left"
          },
          "hovermode": "closest",
          "mapbox": {
           "style": "light"
          },
          "paper_bgcolor": "white",
          "plot_bgcolor": "#E5ECF6",
          "polar": {
           "angularaxis": {
            "gridcolor": "white",
            "linecolor": "white",
            "ticks": ""
           },
           "bgcolor": "#E5ECF6",
           "radialaxis": {
            "gridcolor": "white",
            "linecolor": "white",
            "ticks": ""
           }
          },
          "scene": {
           "xaxis": {
            "backgroundcolor": "#E5ECF6",
            "gridcolor": "white",
            "gridwidth": 2,
            "linecolor": "white",
            "showbackground": true,
            "ticks": "",
            "zerolinecolor": "white"
           },
           "yaxis": {
            "backgroundcolor": "#E5ECF6",
            "gridcolor": "white",
            "gridwidth": 2,
            "linecolor": "white",
            "showbackground": true,
            "ticks": "",
            "zerolinecolor": "white"
           },
           "zaxis": {
            "backgroundcolor": "#E5ECF6",
            "gridcolor": "white",
            "gridwidth": 2,
            "linecolor": "white",
            "showbackground": true,
            "ticks": "",
            "zerolinecolor": "white"
           }
          },
          "shapedefaults": {
           "line": {
            "color": "#2a3f5f"
           }
          },
          "ternary": {
           "aaxis": {
            "gridcolor": "white",
            "linecolor": "white",
            "ticks": ""
           },
           "baxis": {
            "gridcolor": "white",
            "linecolor": "white",
            "ticks": ""
           },
           "bgcolor": "#E5ECF6",
           "caxis": {
            "gridcolor": "white",
            "linecolor": "white",
            "ticks": ""
           }
          },
          "title": {
           "x": 0.05
          },
          "xaxis": {
           "automargin": true,
           "gridcolor": "white",
           "linecolor": "white",
           "ticks": "",
           "title": {
            "standoff": 15
           },
           "zerolinecolor": "white",
           "zerolinewidth": 2
          },
          "yaxis": {
           "automargin": true,
           "gridcolor": "white",
           "linecolor": "white",
           "ticks": "",
           "title": {
            "standoff": 15
           },
           "zerolinecolor": "white",
           "zerolinewidth": 2
          }
         }
        },
        "title": {
         "text": "2020-01-21"
        },
        "xaxis": {
         "anchor": "y",
         "domain": [
          0,
          1
         ],
         "title": {
          "text": "2020-01-21"
         },
         "type": "date"
        },
        "yaxis": {
         "anchor": "x",
         "autorange": "reversed",
         "domain": [
          0,
          1
         ],
         "title": {
          "text": "Task"
         }
        }
       }
      }
     },
     "metadata": {},
     "output_type": "display_data"
    },
    {
     "data": {
      "application/vnd.plotly.v1+json": {
       "config": {
        "plotlyServerURL": "https://plot.ly"
       },
       "data": [
        {
         "alignmentgroup": "True",
         "base": [
          "2020-01-22T04:22:47.167704",
          "2020-01-22T12:10:16.181280",
          "2020-01-22T13:15:06.114363",
          "2020-01-22T14:37:37.358886",
          "2020-01-22T17:58:08.101436",
          "2020-01-22T19:37:50.621807"
         ],
         "customdata": [
          [
           "Tool Maker"
          ],
          [
           "Camera Repairer"
          ],
          [
           "Medical Assistant"
          ],
          [
           "Paint Consultant"
          ],
          [
           "Leather Worker"
          ],
          [
           "Governor"
          ]
         ],
         "hovertemplate": "Person=Tristan Ingram<br>Start=%{base}<br>Finish=%{x}<br>Task=%{y}<br>Activity=%{customdata[0]}<extra></extra>",
         "legendgroup": "Tristan Ingram",
         "marker": {
          "color": "#636efa",
          "pattern": {
           "shape": ""
          }
         },
         "name": "Tristan Ingram",
         "offsetgroup": "Tristan Ingram",
         "orientation": "h",
         "showlegend": true,
         "textposition": "auto",
         "type": "bar",
         "x": [
          13603754.249,
          1860000,
          3480000,
          6420000,
          3420000,
          2940000
         ],
         "xaxis": "x",
         "y": [
          "Tristan Ingram",
          "Tristan Ingram",
          "Tristan Ingram",
          "Tristan Ingram",
          "Tristan Ingram",
          "Tristan Ingram"
         ],
         "yaxis": "y"
        },
        {
         "alignmentgroup": "True",
         "base": [
          "2020-01-22T02:46:35.446297",
          "2020-01-22T11:31:22.692364",
          "2020-01-22T12:09:19.168448",
          "2020-01-22T23:03:38.628913"
         ],
         "customdata": [
          [
           "Publisher"
          ],
          [
           "Marine Engineer"
          ],
          [
           "Quality Controller"
          ],
          [
           "Playgroup Assistant"
          ]
         ],
         "hovertemplate": "Person=Rex Levy<br>Start=%{base}<br>Finish=%{x}<br>Task=%{y}<br>Activity=%{customdata[0]}<extra></extra>",
         "legendgroup": "Rex Levy",
         "marker": {
          "color": "#EF553B",
          "pattern": {
           "shape": ""
          }
         },
         "name": "Rex Levy",
         "offsetgroup": "Rex Levy",
         "orientation": "h",
         "showlegend": true,
         "textposition": "auto",
         "type": "bar",
         "x": [
          21945122.158,
          1860000,
          9960000,
          2340000
         ],
         "xaxis": "x",
         "y": [
          "Rex Levy",
          "Rex Levy",
          "Rex Levy",
          "Rex Levy"
         ],
         "yaxis": "y"
        },
        {
         "alignmentgroup": "True",
         "base": [
          "2020-01-22T04:18:22.536454",
          "2020-01-22T06:34:28.392252",
          "2020-01-22T09:17:09.414084",
          "2020-01-22T14:37:11.204741",
          "2020-01-22T16:30:35.288968",
          "2020-01-22T19:28:49.006171",
          "2020-01-22T21:41:04.304529"
         ],
         "customdata": [
          [
           "Medical Researcher"
          ],
          [
           "Careers Officer"
          ],
          [
           "Social Worker"
          ],
          [
           "Procurator Fiscal"
          ],
          [
           "Applications Programmer"
          ],
          [
           "Business Consultant"
          ],
          [
           "Health Service"
          ]
         ],
         "hovertemplate": "Person=Cortez Mclaughlin<br>Start=%{base}<br>Finish=%{x}<br>Task=%{y}<br>Activity=%{customdata[0]}<extra></extra>",
         "legendgroup": "Cortez Mclaughlin",
         "marker": {
          "color": "#00cc96",
          "pattern": {
           "shape": ""
          }
         },
         "name": "Cortez Mclaughlin",
         "offsetgroup": "Cortez Mclaughlin",
         "orientation": "h",
         "showlegend": true,
         "textposition": "auto",
         "type": "bar",
         "x": [
          4860000,
          8340000,
          8400000,
          2220000,
          9660000,
          4860000,
          1800000
         ],
         "xaxis": "x",
         "y": [
          "Cortez Mclaughlin",
          "Cortez Mclaughlin",
          "Cortez Mclaughlin",
          "Cortez Mclaughlin",
          "Cortez Mclaughlin",
          "Cortez Mclaughlin",
          "Cortez Mclaughlin"
         ],
         "yaxis": "y"
        },
        {
         "alignmentgroup": "True",
         "base": [
          "2020-01-22T00:50:23.975051",
          "2020-01-22T02:43:23.847334",
          "2020-01-22T05:37:10.562478",
          "2020-01-22T06:36:03.595905",
          "2020-01-22T10:37:53.071094"
         ],
         "customdata": [
          [
           "Ground Worker"
          ],
          [
           "Health Therapist"
          ],
          [
           "Merchant Seaman"
          ],
          [
           "Property Valuer"
          ],
          [
           "Legal Secretary"
          ]
         ],
         "hovertemplate": "Person=Perry Mcneil<br>Start=%{base}<br>Finish=%{x}<br>Task=%{y}<br>Activity=%{customdata[0]}<extra></extra>",
         "legendgroup": "Perry Mcneil",
         "marker": {
          "color": "#ab63fa",
          "pattern": {
           "shape": ""
          }
         },
         "name": "Perry Mcneil",
         "offsetgroup": "Perry Mcneil",
         "orientation": "h",
         "showlegend": true,
         "textposition": "auto",
         "type": "bar",
         "x": [
          66071313.917,
          10010089.432,
          2880000,
          13067974.212,
          10475840.063
         ],
         "xaxis": "x",
         "y": [
          "Perry Mcneil",
          "Perry Mcneil",
          "Perry Mcneil",
          "Perry Mcneil",
          "Perry Mcneil"
         ],
         "yaxis": "y"
        },
        {
         "alignmentgroup": "True",
         "base": [
          "2020-01-22T02:17:31.637267",
          "2020-01-22T11:46:06.485964",
          "2020-01-22T15:01:29.181623",
          "2020-01-22T17:42:22.453410"
         ],
         "customdata": [
          [
           "Acupuncturist"
          ],
          [
           "Vicar"
          ],
          [
           "Patent Agent"
          ],
          [
           "Legal Executive"
          ]
         ],
         "hovertemplate": "Person=Julee Jarvis<br>Start=%{base}<br>Finish=%{x}<br>Task=%{y}<br>Activity=%{customdata[0]}<extra></extra>",
         "legendgroup": "Julee Jarvis",
         "marker": {
          "color": "#FFA15A",
          "pattern": {
           "shape": ""
          }
         },
         "name": "Julee Jarvis",
         "offsetgroup": "Julee Jarvis",
         "orientation": "h",
         "showlegend": true,
         "textposition": "auto",
         "type": "bar",
         "x": [
          10240036.468,
          3660000,
          8280000,
          3420000
         ],
         "xaxis": "x",
         "y": [
          "Julee Jarvis",
          "Julee Jarvis",
          "Julee Jarvis",
          "Julee Jarvis"
         ],
         "yaxis": "y"
        }
       ],
       "layout": {
        "barmode": "overlay",
        "legend": {
         "title": {
          "text": "Person"
         },
         "tracegroupgap": 0
        },
        "template": {
         "data": {
          "bar": [
           {
            "error_x": {
             "color": "#2a3f5f"
            },
            "error_y": {
             "color": "#2a3f5f"
            },
            "marker": {
             "line": {
              "color": "#E5ECF6",
              "width": 0.5
             },
             "pattern": {
              "fillmode": "overlay",
              "size": 10,
              "solidity": 0.2
             }
            },
            "type": "bar"
           }
          ],
          "barpolar": [
           {
            "marker": {
             "line": {
              "color": "#E5ECF6",
              "width": 0.5
             },
             "pattern": {
              "fillmode": "overlay",
              "size": 10,
              "solidity": 0.2
             }
            },
            "type": "barpolar"
           }
          ],
          "carpet": [
           {
            "aaxis": {
             "endlinecolor": "#2a3f5f",
             "gridcolor": "white",
             "linecolor": "white",
             "minorgridcolor": "white",
             "startlinecolor": "#2a3f5f"
            },
            "baxis": {
             "endlinecolor": "#2a3f5f",
             "gridcolor": "white",
             "linecolor": "white",
             "minorgridcolor": "white",
             "startlinecolor": "#2a3f5f"
            },
            "type": "carpet"
           }
          ],
          "choropleth": [
           {
            "colorbar": {
             "outlinewidth": 0,
             "ticks": ""
            },
            "type": "choropleth"
           }
          ],
          "contour": [
           {
            "colorbar": {
             "outlinewidth": 0,
             "ticks": ""
            },
            "colorscale": [
             [
              0,
              "#0d0887"
             ],
             [
              0.1111111111111111,
              "#46039f"
             ],
             [
              0.2222222222222222,
              "#7201a8"
             ],
             [
              0.3333333333333333,
              "#9c179e"
             ],
             [
              0.4444444444444444,
              "#bd3786"
             ],
             [
              0.5555555555555556,
              "#d8576b"
             ],
             [
              0.6666666666666666,
              "#ed7953"
             ],
             [
              0.7777777777777778,
              "#fb9f3a"
             ],
             [
              0.8888888888888888,
              "#fdca26"
             ],
             [
              1,
              "#f0f921"
             ]
            ],
            "type": "contour"
           }
          ],
          "contourcarpet": [
           {
            "colorbar": {
             "outlinewidth": 0,
             "ticks": ""
            },
            "type": "contourcarpet"
           }
          ],
          "heatmap": [
           {
            "colorbar": {
             "outlinewidth": 0,
             "ticks": ""
            },
            "colorscale": [
             [
              0,
              "#0d0887"
             ],
             [
              0.1111111111111111,
              "#46039f"
             ],
             [
              0.2222222222222222,
              "#7201a8"
             ],
             [
              0.3333333333333333,
              "#9c179e"
             ],
             [
              0.4444444444444444,
              "#bd3786"
             ],
             [
              0.5555555555555556,
              "#d8576b"
             ],
             [
              0.6666666666666666,
              "#ed7953"
             ],
             [
              0.7777777777777778,
              "#fb9f3a"
             ],
             [
              0.8888888888888888,
              "#fdca26"
             ],
             [
              1,
              "#f0f921"
             ]
            ],
            "type": "heatmap"
           }
          ],
          "heatmapgl": [
           {
            "colorbar": {
             "outlinewidth": 0,
             "ticks": ""
            },
            "colorscale": [
             [
              0,
              "#0d0887"
             ],
             [
              0.1111111111111111,
              "#46039f"
             ],
             [
              0.2222222222222222,
              "#7201a8"
             ],
             [
              0.3333333333333333,
              "#9c179e"
             ],
             [
              0.4444444444444444,
              "#bd3786"
             ],
             [
              0.5555555555555556,
              "#d8576b"
             ],
             [
              0.6666666666666666,
              "#ed7953"
             ],
             [
              0.7777777777777778,
              "#fb9f3a"
             ],
             [
              0.8888888888888888,
              "#fdca26"
             ],
             [
              1,
              "#f0f921"
             ]
            ],
            "type": "heatmapgl"
           }
          ],
          "histogram": [
           {
            "marker": {
             "pattern": {
              "fillmode": "overlay",
              "size": 10,
              "solidity": 0.2
             }
            },
            "type": "histogram"
           }
          ],
          "histogram2d": [
           {
            "colorbar": {
             "outlinewidth": 0,
             "ticks": ""
            },
            "colorscale": [
             [
              0,
              "#0d0887"
             ],
             [
              0.1111111111111111,
              "#46039f"
             ],
             [
              0.2222222222222222,
              "#7201a8"
             ],
             [
              0.3333333333333333,
              "#9c179e"
             ],
             [
              0.4444444444444444,
              "#bd3786"
             ],
             [
              0.5555555555555556,
              "#d8576b"
             ],
             [
              0.6666666666666666,
              "#ed7953"
             ],
             [
              0.7777777777777778,
              "#fb9f3a"
             ],
             [
              0.8888888888888888,
              "#fdca26"
             ],
             [
              1,
              "#f0f921"
             ]
            ],
            "type": "histogram2d"
           }
          ],
          "histogram2dcontour": [
           {
            "colorbar": {
             "outlinewidth": 0,
             "ticks": ""
            },
            "colorscale": [
             [
              0,
              "#0d0887"
             ],
             [
              0.1111111111111111,
              "#46039f"
             ],
             [
              0.2222222222222222,
              "#7201a8"
             ],
             [
              0.3333333333333333,
              "#9c179e"
             ],
             [
              0.4444444444444444,
              "#bd3786"
             ],
             [
              0.5555555555555556,
              "#d8576b"
             ],
             [
              0.6666666666666666,
              "#ed7953"
             ],
             [
              0.7777777777777778,
              "#fb9f3a"
             ],
             [
              0.8888888888888888,
              "#fdca26"
             ],
             [
              1,
              "#f0f921"
             ]
            ],
            "type": "histogram2dcontour"
           }
          ],
          "mesh3d": [
           {
            "colorbar": {
             "outlinewidth": 0,
             "ticks": ""
            },
            "type": "mesh3d"
           }
          ],
          "parcoords": [
           {
            "line": {
             "colorbar": {
              "outlinewidth": 0,
              "ticks": ""
             }
            },
            "type": "parcoords"
           }
          ],
          "pie": [
           {
            "automargin": true,
            "type": "pie"
           }
          ],
          "scatter": [
           {
            "fillpattern": {
             "fillmode": "overlay",
             "size": 10,
             "solidity": 0.2
            },
            "type": "scatter"
           }
          ],
          "scatter3d": [
           {
            "line": {
             "colorbar": {
              "outlinewidth": 0,
              "ticks": ""
             }
            },
            "marker": {
             "colorbar": {
              "outlinewidth": 0,
              "ticks": ""
             }
            },
            "type": "scatter3d"
           }
          ],
          "scattercarpet": [
           {
            "marker": {
             "colorbar": {
              "outlinewidth": 0,
              "ticks": ""
             }
            },
            "type": "scattercarpet"
           }
          ],
          "scattergeo": [
           {
            "marker": {
             "colorbar": {
              "outlinewidth": 0,
              "ticks": ""
             }
            },
            "type": "scattergeo"
           }
          ],
          "scattergl": [
           {
            "marker": {
             "colorbar": {
              "outlinewidth": 0,
              "ticks": ""
             }
            },
            "type": "scattergl"
           }
          ],
          "scattermapbox": [
           {
            "marker": {
             "colorbar": {
              "outlinewidth": 0,
              "ticks": ""
             }
            },
            "type": "scattermapbox"
           }
          ],
          "scatterpolar": [
           {
            "marker": {
             "colorbar": {
              "outlinewidth": 0,
              "ticks": ""
             }
            },
            "type": "scatterpolar"
           }
          ],
          "scatterpolargl": [
           {
            "marker": {
             "colorbar": {
              "outlinewidth": 0,
              "ticks": ""
             }
            },
            "type": "scatterpolargl"
           }
          ],
          "scatterternary": [
           {
            "marker": {
             "colorbar": {
              "outlinewidth": 0,
              "ticks": ""
             }
            },
            "type": "scatterternary"
           }
          ],
          "surface": [
           {
            "colorbar": {
             "outlinewidth": 0,
             "ticks": ""
            },
            "colorscale": [
             [
              0,
              "#0d0887"
             ],
             [
              0.1111111111111111,
              "#46039f"
             ],
             [
              0.2222222222222222,
              "#7201a8"
             ],
             [
              0.3333333333333333,
              "#9c179e"
             ],
             [
              0.4444444444444444,
              "#bd3786"
             ],
             [
              0.5555555555555556,
              "#d8576b"
             ],
             [
              0.6666666666666666,
              "#ed7953"
             ],
             [
              0.7777777777777778,
              "#fb9f3a"
             ],
             [
              0.8888888888888888,
              "#fdca26"
             ],
             [
              1,
              "#f0f921"
             ]
            ],
            "type": "surface"
           }
          ],
          "table": [
           {
            "cells": {
             "fill": {
              "color": "#EBF0F8"
             },
             "line": {
              "color": "white"
             }
            },
            "header": {
             "fill": {
              "color": "#C8D4E3"
             },
             "line": {
              "color": "white"
             }
            },
            "type": "table"
           }
          ]
         },
         "layout": {
          "annotationdefaults": {
           "arrowcolor": "#2a3f5f",
           "arrowhead": 0,
           "arrowwidth": 1
          },
          "autotypenumbers": "strict",
          "coloraxis": {
           "colorbar": {
            "outlinewidth": 0,
            "ticks": ""
           }
          },
          "colorscale": {
           "diverging": [
            [
             0,
             "#8e0152"
            ],
            [
             0.1,
             "#c51b7d"
            ],
            [
             0.2,
             "#de77ae"
            ],
            [
             0.3,
             "#f1b6da"
            ],
            [
             0.4,
             "#fde0ef"
            ],
            [
             0.5,
             "#f7f7f7"
            ],
            [
             0.6,
             "#e6f5d0"
            ],
            [
             0.7,
             "#b8e186"
            ],
            [
             0.8,
             "#7fbc41"
            ],
            [
             0.9,
             "#4d9221"
            ],
            [
             1,
             "#276419"
            ]
           ],
           "sequential": [
            [
             0,
             "#0d0887"
            ],
            [
             0.1111111111111111,
             "#46039f"
            ],
            [
             0.2222222222222222,
             "#7201a8"
            ],
            [
             0.3333333333333333,
             "#9c179e"
            ],
            [
             0.4444444444444444,
             "#bd3786"
            ],
            [
             0.5555555555555556,
             "#d8576b"
            ],
            [
             0.6666666666666666,
             "#ed7953"
            ],
            [
             0.7777777777777778,
             "#fb9f3a"
            ],
            [
             0.8888888888888888,
             "#fdca26"
            ],
            [
             1,
             "#f0f921"
            ]
           ],
           "sequentialminus": [
            [
             0,
             "#0d0887"
            ],
            [
             0.1111111111111111,
             "#46039f"
            ],
            [
             0.2222222222222222,
             "#7201a8"
            ],
            [
             0.3333333333333333,
             "#9c179e"
            ],
            [
             0.4444444444444444,
             "#bd3786"
            ],
            [
             0.5555555555555556,
             "#d8576b"
            ],
            [
             0.6666666666666666,
             "#ed7953"
            ],
            [
             0.7777777777777778,
             "#fb9f3a"
            ],
            [
             0.8888888888888888,
             "#fdca26"
            ],
            [
             1,
             "#f0f921"
            ]
           ]
          },
          "colorway": [
           "#636efa",
           "#EF553B",
           "#00cc96",
           "#ab63fa",
           "#FFA15A",
           "#19d3f3",
           "#FF6692",
           "#B6E880",
           "#FF97FF",
           "#FECB52"
          ],
          "font": {
           "color": "#2a3f5f"
          },
          "geo": {
           "bgcolor": "white",
           "lakecolor": "white",
           "landcolor": "#E5ECF6",
           "showlakes": true,
           "showland": true,
           "subunitcolor": "white"
          },
          "hoverlabel": {
           "align": "left"
          },
          "hovermode": "closest",
          "mapbox": {
           "style": "light"
          },
          "paper_bgcolor": "white",
          "plot_bgcolor": "#E5ECF6",
          "polar": {
           "angularaxis": {
            "gridcolor": "white",
            "linecolor": "white",
            "ticks": ""
           },
           "bgcolor": "#E5ECF6",
           "radialaxis": {
            "gridcolor": "white",
            "linecolor": "white",
            "ticks": ""
           }
          },
          "scene": {
           "xaxis": {
            "backgroundcolor": "#E5ECF6",
            "gridcolor": "white",
            "gridwidth": 2,
            "linecolor": "white",
            "showbackground": true,
            "ticks": "",
            "zerolinecolor": "white"
           },
           "yaxis": {
            "backgroundcolor": "#E5ECF6",
            "gridcolor": "white",
            "gridwidth": 2,
            "linecolor": "white",
            "showbackground": true,
            "ticks": "",
            "zerolinecolor": "white"
           },
           "zaxis": {
            "backgroundcolor": "#E5ECF6",
            "gridcolor": "white",
            "gridwidth": 2,
            "linecolor": "white",
            "showbackground": true,
            "ticks": "",
            "zerolinecolor": "white"
           }
          },
          "shapedefaults": {
           "line": {
            "color": "#2a3f5f"
           }
          },
          "ternary": {
           "aaxis": {
            "gridcolor": "white",
            "linecolor": "white",
            "ticks": ""
           },
           "baxis": {
            "gridcolor": "white",
            "linecolor": "white",
            "ticks": ""
           },
           "bgcolor": "#E5ECF6",
           "caxis": {
            "gridcolor": "white",
            "linecolor": "white",
            "ticks": ""
           }
          },
          "title": {
           "x": 0.05
          },
          "xaxis": {
           "automargin": true,
           "gridcolor": "white",
           "linecolor": "white",
           "ticks": "",
           "title": {
            "standoff": 15
           },
           "zerolinecolor": "white",
           "zerolinewidth": 2
          },
          "yaxis": {
           "automargin": true,
           "gridcolor": "white",
           "linecolor": "white",
           "ticks": "",
           "title": {
            "standoff": 15
           },
           "zerolinecolor": "white",
           "zerolinewidth": 2
          }
         }
        },
        "title": {
         "text": "2020-01-22"
        },
        "xaxis": {
         "anchor": "y",
         "domain": [
          0,
          1
         ],
         "title": {
          "text": "2020-01-22"
         },
         "type": "date"
        },
        "yaxis": {
         "anchor": "x",
         "autorange": "reversed",
         "domain": [
          0,
          1
         ],
         "title": {
          "text": "Task"
         }
        }
       }
      }
     },
     "metadata": {},
     "output_type": "display_data"
    }
   ],
   "source": [
    "\n",
    "from datetime import date\n",
    "import pandas as pd\n",
    "import plotly.express as px\n",
    "\n",
    "class MyCal:\n",
    "    \"\"\"Calendar API base class for computing schedules for a set of persons\n",
    "    \"\"\"\n",
    "    def __init__(self,schedules:dict):\n",
    "        self.schedules = schedules\n",
    "        self.persons = list(self.schedules.keys())\n",
    "        # self.print_schedules()\n",
    "        \n",
    "    def merge_intervals(self,intervals):\n",
    "        # Sort the intervals based on the start time\n",
    "        intervals_sorted = sorted(intervals, key=lambda x: x['start'])\n",
    "\n",
    "        merged = []\n",
    "        for interval in intervals_sorted:\n",
    "            # If merged is empty or if current interval doesn't overlap with the previous one\n",
    "            if not merged or merged[-1]['end'] < interval['start']:\n",
    "                merged.append(interval)\n",
    "            else:\n",
    "                # Update the end time of the previous interval if necessary\n",
    "                merged[-1]['end'] = max(merged[-1]['end'], interval['end'])\n",
    "\n",
    "        return merged\n",
    "        \n",
    "    def print_schedules(self):\n",
    "        for k,v in self.schedules.items():\n",
    "            print(f\"\\n{k}\")\n",
    "            for day in v:\n",
    "                print(f\"{day['date']}\")\n",
    "                for activity in day['activities']:\n",
    "                    print(f\"  {activity['start']} - {activity['end']}\")\n",
    "        \n",
    "    def check_conflicts(self):\n",
    "        NotImplemented\n",
    "    \n",
    "    def get_earliest_availability(self, person:str):\n",
    "        earliest_availability_of_person_by_date = defaultdict(dict)\n",
    "        # # print(person,schedules[person])\n",
    "        for schedule in self.schedules[person]:\n",
    "            curr_date = schedule['date']\n",
    "            # print(person,curr_date)\n",
    "            earliest_availability_of_person_by_date[person][curr_date] = datetime.combine(date.max, datetime.max.time())\n",
    "            for activity in schedule['activities']:\n",
    "                if activity['end'] <= earliest_availability_of_person_by_date[person][curr_date]:\n",
    "                    earliest_availability_of_person_by_date[person][curr_date] = activity['end']\n",
    "                    \n",
    "        for k,v in earliest_availability_of_person_by_date[person].items():\n",
    "            print(f\"{person} on {k} is first free after {v}\")\n",
    "                \n",
    "        return earliest_availability_of_person_by_date\n",
    "        \n",
    "    def get_all_earliest_availability(self):\n",
    "        time_slots = defaultdict(list)\n",
    "        for person in self.schedules:\n",
    "            for date in self.schedules[person]:\n",
    "                for activity in date['activities']:\n",
    "                    time_slots[date['date']].append(activity)\n",
    "                    \n",
    "        # print(time_slots)\n",
    "        busy_times_by_date = defaultdict(list)\n",
    "        for k,v in time_slots.items():\n",
    "            merged = self.merge_intervals(intervals=v)\n",
    "            # print((merged))\n",
    "            for activity in merged:\n",
    "                busy_times_by_date[k].append([activity['start'],activity['end']])\n",
    "                # print(k,activity['start'],activity['end'])\n",
    "            print(f\"Earliest time on {k} is {merged[0]['end']}\")\n",
    "            \n",
    "        print(busy_times_by_date)\n",
    "        return busy_times_by_date\n",
    "\n",
    "    def visualize_calendar(self):\n",
    "        \"\"\"Plots the schedules of all people in a Gantt chart format for each day\n",
    "        \"\"\"\n",
    "        gantt_charts = defaultdict(list)\n",
    "        for person in self.schedules:\n",
    "            for date in self.schedules[person]: \n",
    "                for activity in date['activities']:\n",
    "                    gantt_charts[date['date']].append(dict(Task=f\"{person}\",Start=activity['start'],Finish=activity['end'],Person=f\"{person}\",Activity=activity['activity']))\n",
    "        \n",
    "        for date in gantt_charts:\n",
    "            df = pd.DataFrame(gantt_charts[date])\n",
    "            fig = px.timeline(df, x_start=\"Start\", x_end=\"Finish\", y=\"Task\", \n",
    "            color=\"Person\",title=f\"{date}\",hover_data=['Activity'])\n",
    "\n",
    "            fig.update_layout(xaxis=dict(\n",
    "                            title=f'{date}', \n",
    "                            # tickformat = '%S'\n",
    "                            ))\n",
    "            fig.update_yaxes(autorange=\"reversed\")\n",
    "            fig.show()\n",
    "        \n",
    "\n",
    "    \n",
    "def main():\n",
    "    schedules = SceduleGenerator(start_year=2020, end_year=2020, n_persons=5, n_days=2, min_activites=5, max_activites=10).schedules\n",
    "    my_cal = MyCal(schedules=schedules)\n",
    "    for person in my_cal.persons:\n",
    "        my_cal.get_earliest_availability(person=person)\n",
    "        \n",
    "    my_cal.get_all_earliest_availability()\n",
    "    my_cal.visualize_calendar()\n",
    "        \n",
    "        \n",
    "if __name__ == \"__main__\":   \n",
    "    main()"
   ]
  }
 ],
 "metadata": {
  "kernelspec": {
   "display_name": "Python 3",
   "language": "python",
   "name": "python3"
  },
  "language_info": {
   "codemirror_mode": {
    "name": "ipython",
    "version": 3
   },
   "file_extension": ".py",
   "mimetype": "text/x-python",
   "name": "python",
   "nbconvert_exporter": "python",
   "pygments_lexer": "ipython3",
   "version": "3.8.10"
  }
 },
 "nbformat": 4,
 "nbformat_minor": 2
}
