{
 "cells": [
  {
   "cell_type": "markdown",
   "metadata": {},
   "source": [
    "# Calendar API\n",
    "\n",
    "Create a function that takes a list of events and returns the earliest available time where all people can attend."
   ]
  },
  {
   "cell_type": "code",
   "execution_count": 75,
   "metadata": {},
   "outputs": [
    {
     "name": "stdout",
     "output_type": "stream",
     "text": [
      "For person 0 earliest available time is 6.57\n",
      "For person 1 earliest available time is 6\n",
      "For person 2 earliest available time is 6.43\n",
      "6.57\n",
      "For person 0 earliest available time is 0\n",
      "For person 1 earliest available time is 0\n",
      "For person 2 earliest available time is 6.66\n",
      "6.66\n"
     ]
    }
   ],
   "source": [
    "from typing import List, Tuple\n",
    "from collections import defaultdict\n",
    "\n",
    "class MyCalendar:\n",
    "    \"\"\"Calendar class as an API template\n",
    "    \"\"\"\n",
    "    def __init__(self,times):\n",
    "        \"\"\"initialize the calendar with the given times\n",
    "\n",
    "        Args:\n",
    "            times (_type_): dictionary with persons as keys and their busy time in a day from 0-24 as values\n",
    "        \"\"\"\n",
    "        self.times = times\n",
    "        self.available_times = self.get_earliest_available_time()\n",
    "    \n",
    "    def decimal2mins(self,time:float)->int: \n",
    "        \"\"\"convert decimal time in hours to minutes\n",
    "\n",
    "        Args:\n",
    "            time (float): _description_\n",
    "\n",
    "        Returns:\n",
    "            int: _description_\n",
    "        \"\"\"\n",
    "        hrs = int(time) \n",
    "        mins = int((time-hrs)*60) \n",
    "        t = hrs*60 + mins \n",
    "        return t\n",
    "\n",
    "    def mins2decimal(self,time:int,decimals:int = 2)->float: \n",
    "        \"\"\"convert minutes into decimal time in hours\n",
    "\n",
    "        Args:\n",
    "            time (int): _description_\n",
    "            decimals (int, optional): _description_. Defaults to 2.\n",
    "\n",
    "        Returns:\n",
    "            float: _description_\n",
    "        \"\"\"\n",
    "        hrs = time//60 \n",
    "        mins = (time%60)/60 \n",
    "        return round(hrs+mins,2)\n",
    "\n",
    "    def str2time(self,start:float,end:float) -> List[int]:\n",
    "        \"\"\"convert start and end time in decimal format to minutes\n",
    "\n",
    "        Args:\n",
    "            start (float): _description_\n",
    "            end (float): _description_\n",
    "\n",
    "        Returns:\n",
    "            List[int]: _description_\n",
    "        \"\"\"\n",
    "        return [self.decimal2mins(start),self.decimal2mins(end)]\n",
    "    \n",
    "    def merge_intervals(self,intervals:List[List[float]]):\n",
    "        merged_intervals = []\n",
    "        sorted_intervals = sorted(intervals,key=lambda x:x[0])\n",
    "        for interval in sorted_intervals:\n",
    "            if not merged_intervals or merged_intervals[-1][1] < interval[0]:\n",
    "                merged_intervals.append(interval)\n",
    "            else:\n",
    "                merged_intervals[-1][1] = max(merged_intervals[-1][1],interval[1])\n",
    "        return merged_intervals\n",
    "\n",
    "    def check_earliest(self,busy:List[List]):\n",
    "        if not busy or not busy[0]:\n",
    "            return (float('inf'),True)\n",
    "        earliest = float('inf')\n",
    "        busy = self.merge_intervals(intervals=busy)\n",
    "        is_start_zero = busy[0][0] == 0\n",
    "        if not is_start_zero:\n",
    "            earliest = 0\n",
    "            return (earliest,is_start_zero) \n",
    "        for times in busy:\n",
    "            start,end = times[0],times[1]\n",
    "            if start == 0:\n",
    "                is_start_zero = True\n",
    "            if end <= earliest:\n",
    "                earliest = end\n",
    "        return (earliest,is_start_zero) \n",
    "\n",
    "    def get_earliest_available_time(self) -> float:\n",
    "        \"\"\"given a list of persons busy time, find the earliest available time\n",
    "\n",
    "        Returns:\n",
    "            float: _description_\n",
    "        \"\"\"\n",
    "        earliest_available_times = defaultdict(float)\n",
    "        zeros = [] \n",
    "        for person , time_slots in self.times.items(): \n",
    "            earliest, is_start_zero = self.check_earliest(time_slots) \n",
    "            print(f\"For person {person} earliest available time is {earliest}\")\n",
    "            earliest_available_times[person] = earliest \n",
    "            zeros.append(is_start_zero) \n",
    "        earliest_available = (max(earliest_available_times.values()) if any(zeros) else 0) \n",
    "        return earliest_available\n",
    "\n",
    "times = {\n",
    "    0: [[0, 6.57], [9, 10],[0.20,2]], \n",
    "    1: [[0, 6], [11, 12]],\n",
    "    2: [[0,6.43]]\n",
    "}\n",
    "cal = MyCalendar(times=times)\n",
    "print(cal.available_times)\n",
    "times = {\n",
    "    0: [[1, 6.57], [9, 10],[1.20,2]], \n",
    "    1: [[1, 6], [11, 12]],\n",
    "    2: [[0,6.66]]\n",
    "}\n",
    "cal = MyCalendar(times=times)\n",
    "print(cal.available_times)\n",
    "\n",
    "\n",
    "\n",
    "\n",
    "\n",
    "\n",
    "\n",
    "\n"
   ]
  },
  {
   "cell_type": "code",
   "execution_count": 3,
   "metadata": {},
   "outputs": [
    {
     "name": "stdout",
     "output_type": "stream",
     "text": [
      "Requirement already satisfied: mimesis in /home/vishal/.local/lib/python3.8/site-packages (12.1.0)\n"
     ]
    }
   ],
   "source": [
    "!pip install mimesis"
   ]
  },
  {
   "cell_type": "code",
   "execution_count": 35,
   "metadata": {},
   "outputs": [
    {
     "name": "stdout",
     "output_type": "stream",
     "text": [
      "\n",
      "Carter Rivera\n",
      "2020-11-21\n",
      "  2020-11-21 08:42:42.034575 - 2020-11-21 09:32:42.034575\n",
      "  2020-11-21 10:46:03.080890 - 2020-11-21 11:32:03.080890\n",
      "2020-11-22\n",
      "  2020-11-22 15:49:51.127629 - 2020-11-22 16:35:51.127629\n",
      "  2020-11-22 16:51:28.452500 - 2020-11-22 17:23:28.452500\n",
      "  2020-11-22 20:48:03.560701 - 2020-11-22 21:27:03.560701\n",
      "\n",
      "Margert Guthrie\n",
      "2020-11-21\n",
      "  2020-11-21 11:07:04.174215 - 2020-11-21 12:05:04.174215\n",
      "  2020-11-21 17:37:04.119865 - 2020-11-21 18:28:04.119865\n",
      "  2020-11-21 18:34:05.646436 - 2020-11-21 19:55:53.039862\n",
      "2020-11-22\n",
      "  2020-11-22 14:31:36.889847 - 2020-11-22 15:17:36.889847\n"
     ]
    }
   ],
   "source": [
    "from mimesis import Datetime, Person\n",
    "from mimesis.locales import Locale\n",
    "from datetime import datetime, timedelta, time\n",
    "from collections import defaultdict\n",
    "import random\n",
    "from typing import List, Dict, Optional\n",
    "import json\n",
    "\n",
    "class SceduleGenerator:\n",
    "    def __init__(self, start_year=2020, end_year=2020, n_persons=2, n_days=7, min_activites=1, max_activites=4, locale=Locale.EN):\n",
    "        self.locale = locale\n",
    "        self.date_gen = Datetime(locale=locale)\n",
    "        self.person_gen = Person(locale=locale)\n",
    "        self.start_year = start_year\n",
    "        self.end_year = end_year\n",
    "        self.n_persons = n_persons\n",
    "        self.n_days = n_days\n",
    "        self.min_activites = min_activites\n",
    "        self.max_activites = max_activites\n",
    "        self.schedules = self.generate_weekly_schedule(start_year=self.start_year,end_year=self.end_year, n_persons=self.n_persons,n_days=self.n_days,min_activites=self.min_activites,max_activites=self.max_activites)\n",
    "\n",
    "    def generate_weekly_schedule(self,start_year=2020, end_year=2020,n_persons=2,n_days=7,min_activites=1,max_activites=4):\n",
    "        date_gen = Datetime(locale=Locale.EN)\n",
    "        person_gen = Person(Locale.EN)\n",
    "        start_datetime = date_gen.datetime(start=start_year,end=end_year)\n",
    "        schedules = defaultdict(list)\n",
    "        for n_persons in range(n_persons):\n",
    "            person_name = person_gen.full_name()\n",
    "            for day in range(n_days):\n",
    "                current_date = start_datetime + timedelta(days=day)\n",
    "                \n",
    "                # Generate 2-4 busy time slots for each day\n",
    "                daily_schedule = []\n",
    "                for _ in range(random.randint(min_activites, max_activites)):\n",
    "                    start_time = date_gen.time()\n",
    "                    duration = timedelta(minutes=random.randint(30, 60))  # 30 minutes to 3 hours\n",
    "                    end_time = (datetime.combine(current_date, start_time) + duration).time()\n",
    "                    \n",
    "                    # activity = person_gen.occupation()  # Generate a random activity (using occupation as an example)\n",
    "                    \n",
    "                    # Create datetime objects for start and end times\n",
    "                    start_dt = datetime.combine(current_date, start_time)\n",
    "                    end_dt = start_dt + duration  # Add duration to start_datetime\n",
    "                    daily_schedule.append({\n",
    "                        'start': start_dt,\n",
    "                        'end': end_dt,\n",
    "                        # 'activity': activity\n",
    "                    })\n",
    "                    \n",
    "                \n",
    "                # Sort the daily schedule by start time\n",
    "                daily_schedule.sort(key=lambda x: x['start'])\n",
    "                daily_schedule = self.merge_intervals(daily_schedule)\n",
    "                \n",
    "                schedules[person_name].append({\n",
    "                    'date': current_date.date(),\n",
    "                    'activities': daily_schedule\n",
    "                })\n",
    "            \n",
    "        return schedules\n",
    "\n",
    "\n",
    "    def jsonify_schedule(self,schedules:List[Dict]):\n",
    "        return json.dumps(schedules,indent=4)\n",
    "\n",
    "    def time_to_minutes(self,t:datetime):\n",
    "        return t.hour * 60 + t.minute\n",
    "\n",
    "    def minutes_to_time(self,m):\n",
    "        hours, minutes = divmod(m, 60)\n",
    "        return time(hours % 24, minutes)\n",
    "\n",
    "    def merge_intervals(self,intervals):\n",
    "        # Sort the intervals based on the start time\n",
    "        intervals_sorted = sorted(intervals, key=lambda x: x['start'])\n",
    "\n",
    "        merged = []\n",
    "        for interval in intervals_sorted:\n",
    "            # If merged is empty or if current interval doesn't overlap with the previous one\n",
    "            if not merged or merged[-1]['end'] < interval['start']:\n",
    "                merged.append(interval)\n",
    "            else:\n",
    "                # Update the end time of the previous interval if necessary\n",
    "                merged[-1]['end'] = max(merged[-1]['end'], interval['end'])\n",
    "\n",
    "        return merged\n",
    "\n",
    "schedules = SceduleGenerator(n_days=2).schedules\n",
    "\n",
    "# Print the schedule\n",
    "for k,v in schedules.items():\n",
    "    print(f\"\\n{k}\")\n",
    "    for day in v:\n",
    "        print(f\"{day['date']}\")\n",
    "        for activity in day['activities']:\n",
    "            print(f\"  {activity['start']} - {activity['end']}\")"
   ]
  },
  {
   "cell_type": "code",
   "execution_count": 44,
   "metadata": {},
   "outputs": [
    {
     "name": "stdout",
     "output_type": "stream",
     "text": [
      "Lacy Valencia on 2020-07-19 is first free after 2020-07-19 03:27:32.380124\n",
      "Lacy Valencia on 2020-07-20 is first free after 2020-07-20 01:10:06.858072\n",
      "Joeann Velazquez on 2020-07-19 is first free after 2020-07-19 02:22:40.608322\n",
      "Joeann Velazquez on 2020-07-20 is first free after 2020-07-20 08:13:47.642723\n",
      "Yon Mathis on 2020-07-19 is first free after 2020-07-19 01:31:29.516087\n",
      "Yon Mathis on 2020-07-20 is first free after 2020-07-20 00:54:49.372325\n",
      "Earliest time on 2020-07-19 is 2020-07-19 02:36:26.334098\n",
      "Earliest time on 2020-07-20 is 2020-07-20 01:10:06.858072\n",
      "defaultdict(<class 'list'>, {datetime.date(2020, 7, 19): [[datetime.datetime(2020, 7, 19, 0, 35, 29, 516087), datetime.datetime(2020, 7, 19, 2, 36, 26, 334098)], [datetime.datetime(2020, 7, 19, 2, 42, 32, 380124), datetime.datetime(2020, 7, 19, 3, 27, 32, 380124)], [datetime.datetime(2020, 7, 19, 3, 27, 52, 841457), datetime.datetime(2020, 7, 19, 4, 35, 41, 242101)], [datetime.datetime(2020, 7, 19, 4, 37, 34, 380694), datetime.datetime(2020, 7, 19, 5, 25, 34, 380694)], [datetime.datetime(2020, 7, 19, 6, 30, 14, 428180), datetime.datetime(2020, 7, 19, 7, 1, 14, 428180)], [datetime.datetime(2020, 7, 19, 8, 42, 21, 5766), datetime.datetime(2020, 7, 19, 9, 55, 13, 611020)], [datetime.datetime(2020, 7, 19, 11, 1, 9, 301848), datetime.datetime(2020, 7, 19, 11, 32, 9, 301848)], [datetime.datetime(2020, 7, 19, 11, 53, 42, 147623), datetime.datetime(2020, 7, 19, 13, 8, 6, 550711)], [datetime.datetime(2020, 7, 19, 15, 42, 49, 41790), datetime.datetime(2020, 7, 19, 17, 7, 17, 513548)], [datetime.datetime(2020, 7, 19, 17, 51, 8, 713380), datetime.datetime(2020, 7, 19, 18, 47, 8, 713380)], [datetime.datetime(2020, 7, 19, 19, 22, 28, 81881), datetime.datetime(2020, 7, 19, 20, 18, 28, 81881)], [datetime.datetime(2020, 7, 19, 21, 8, 13, 784548), datetime.datetime(2020, 7, 19, 22, 51, 6, 658811)], [datetime.datetime(2020, 7, 19, 23, 24, 3, 175225), datetime.datetime(2020, 7, 20, 0, 16, 56, 923488)]], datetime.date(2020, 7, 20): [[datetime.datetime(2020, 7, 20, 0, 20, 49, 372325), datetime.datetime(2020, 7, 20, 1, 10, 6, 858072)], [datetime.datetime(2020, 7, 20, 2, 49, 54, 881977), datetime.datetime(2020, 7, 20, 3, 21, 54, 881977)], [datetime.datetime(2020, 7, 20, 3, 42, 48, 203069), datetime.datetime(2020, 7, 20, 4, 47, 59, 71363)], [datetime.datetime(2020, 7, 20, 6, 24, 13, 467286), datetime.datetime(2020, 7, 20, 7, 17, 13, 467286)], [datetime.datetime(2020, 7, 20, 7, 29, 34, 272367), datetime.datetime(2020, 7, 20, 8, 41, 39, 864613)], [datetime.datetime(2020, 7, 20, 8, 55, 47, 574150), datetime.datetime(2020, 7, 20, 9, 41, 47, 574150)], [datetime.datetime(2020, 7, 20, 10, 18, 14, 949071), datetime.datetime(2020, 7, 20, 12, 20, 54, 217227)], [datetime.datetime(2020, 7, 20, 13, 18, 35, 419818), datetime.datetime(2020, 7, 20, 14, 17, 35, 419818)], [datetime.datetime(2020, 7, 20, 15, 9, 37, 996735), datetime.datetime(2020, 7, 20, 16, 23, 45, 949224)], [datetime.datetime(2020, 7, 20, 16, 51, 13, 731953), datetime.datetime(2020, 7, 20, 19, 40, 48, 676347)], [datetime.datetime(2020, 7, 20, 20, 21, 44, 527660), datetime.datetime(2020, 7, 20, 21, 19, 44, 527660)], [datetime.datetime(2020, 7, 20, 23, 28, 56, 393265), datetime.datetime(2020, 7, 21, 0, 2, 56, 393265)]]})\n"
     ]
    },
    {
     "data": {
      "application/vnd.plotly.v1+json": {
       "config": {
        "plotlyServerURL": "https://plot.ly"
       },
       "data": [
        {
         "alignmentgroup": "True",
         "base": [
          "2020-07-19T02:42:32.380124",
          "2020-07-19T04:43:12.475292",
          "2020-07-19T06:30:14.428180",
          "2020-07-19T08:42:21.005766",
          "2020-07-19T11:53:42.147623",
          "2020-07-19T15:42:49.041790",
          "2020-07-19T21:08:13.784548"
         ],
         "hovertemplate": "Person=Lacy Valencia<br>Start=%{base}<br>Finish=%{x}<br>Task=%{y}<extra></extra>",
         "legendgroup": "Lacy Valencia",
         "marker": {
          "color": "#636efa",
          "pattern": {
           "shape": ""
          }
         },
         "name": "Lacy Valencia",
         "offsetgroup": "Lacy Valencia",
         "orientation": "h",
         "showlegend": true,
         "textposition": "auto",
         "type": "bar",
         "x": [
          2700000,
          2040000,
          1860000,
          4372605.254,
          4464403.088,
          5068471.758,
          6172874.263
         ],
         "xaxis": "x",
         "y": [
          "Lacy Valencia",
          "Lacy Valencia",
          "Lacy Valencia",
          "Lacy Valencia",
          "Lacy Valencia",
          "Lacy Valencia",
          "Lacy Valencia"
         ],
         "yaxis": "y"
        },
        {
         "alignmentgroup": "True",
         "base": [
          "2020-07-19T01:10:46.795836",
          "2020-07-19T03:27:52.841457",
          "2020-07-19T12:15:06.550711",
          "2020-07-19T16:27:17.513548",
          "2020-07-19T17:58:59.591294",
          "2020-07-19T19:22:28.081881",
          "2020-07-19T21:58:07.877032"
         ],
         "hovertemplate": "Person=Joeann Velazquez<br>Start=%{base}<br>Finish=%{x}<br>Task=%{y}<extra></extra>",
         "legendgroup": "Joeann Velazquez",
         "marker": {
          "color": "#EF553B",
          "pattern": {
           "shape": ""
          }
         },
         "name": "Joeann Velazquez",
         "offsetgroup": "Joeann Velazquez",
         "orientation": "h",
         "showlegend": true,
         "textposition": "auto",
         "type": "bar",
         "x": [
          4313812.486,
          4068400.644,
          3180000,
          2400000,
          2580000,
          3360000,
          1800000
         ],
         "xaxis": "x",
         "y": [
          "Joeann Velazquez",
          "Joeann Velazquez",
          "Joeann Velazquez",
          "Joeann Velazquez",
          "Joeann Velazquez",
          "Joeann Velazquez",
          "Joeann Velazquez"
         ],
         "yaxis": "y"
        },
        {
         "alignmentgroup": "True",
         "base": [
          "2020-07-19T00:35:29.516087",
          "2020-07-19T01:46:26.334098",
          "2020-07-19T03:51:41.242101",
          "2020-07-19T04:37:34.380694",
          "2020-07-19T11:01:09.301848",
          "2020-07-19T12:17:55.530685",
          "2020-07-19T17:51:08.713380",
          "2020-07-19T21:54:06.658811",
          "2020-07-19T23:24:03.175225"
         ],
         "hovertemplate": "Person=Yon Mathis<br>Start=%{base}<br>Finish=%{x}<br>Task=%{y}<extra></extra>",
         "legendgroup": "Yon Mathis",
         "marker": {
          "color": "#00cc96",
          "pattern": {
           "shape": ""
          }
         },
         "name": "Yon Mathis",
         "offsetgroup": "Yon Mathis",
         "orientation": "h",
         "showlegend": true,
         "textposition": "auto",
         "type": "bar",
         "x": [
          7256818.011,
          3000000,
          2640000,
          2880000,
          1860000,
          3000000,
          3360000,
          3420000,
          3173748.263
         ],
         "xaxis": "x",
         "y": [
          "Yon Mathis",
          "Yon Mathis",
          "Yon Mathis",
          "Yon Mathis",
          "Yon Mathis",
          "Yon Mathis",
          "Yon Mathis",
          "Yon Mathis",
          "Yon Mathis"
         ],
         "yaxis": "y"
        }
       ],
       "layout": {
        "barmode": "overlay",
        "legend": {
         "title": {
          "text": "Person"
         },
         "tracegroupgap": 0
        },
        "template": {
         "data": {
          "bar": [
           {
            "error_x": {
             "color": "#2a3f5f"
            },
            "error_y": {
             "color": "#2a3f5f"
            },
            "marker": {
             "line": {
              "color": "#E5ECF6",
              "width": 0.5
             },
             "pattern": {
              "fillmode": "overlay",
              "size": 10,
              "solidity": 0.2
             }
            },
            "type": "bar"
           }
          ],
          "barpolar": [
           {
            "marker": {
             "line": {
              "color": "#E5ECF6",
              "width": 0.5
             },
             "pattern": {
              "fillmode": "overlay",
              "size": 10,
              "solidity": 0.2
             }
            },
            "type": "barpolar"
           }
          ],
          "carpet": [
           {
            "aaxis": {
             "endlinecolor": "#2a3f5f",
             "gridcolor": "white",
             "linecolor": "white",
             "minorgridcolor": "white",
             "startlinecolor": "#2a3f5f"
            },
            "baxis": {
             "endlinecolor": "#2a3f5f",
             "gridcolor": "white",
             "linecolor": "white",
             "minorgridcolor": "white",
             "startlinecolor": "#2a3f5f"
            },
            "type": "carpet"
           }
          ],
          "choropleth": [
           {
            "colorbar": {
             "outlinewidth": 0,
             "ticks": ""
            },
            "type": "choropleth"
           }
          ],
          "contour": [
           {
            "colorbar": {
             "outlinewidth": 0,
             "ticks": ""
            },
            "colorscale": [
             [
              0,
              "#0d0887"
             ],
             [
              0.1111111111111111,
              "#46039f"
             ],
             [
              0.2222222222222222,
              "#7201a8"
             ],
             [
              0.3333333333333333,
              "#9c179e"
             ],
             [
              0.4444444444444444,
              "#bd3786"
             ],
             [
              0.5555555555555556,
              "#d8576b"
             ],
             [
              0.6666666666666666,
              "#ed7953"
             ],
             [
              0.7777777777777778,
              "#fb9f3a"
             ],
             [
              0.8888888888888888,
              "#fdca26"
             ],
             [
              1,
              "#f0f921"
             ]
            ],
            "type": "contour"
           }
          ],
          "contourcarpet": [
           {
            "colorbar": {
             "outlinewidth": 0,
             "ticks": ""
            },
            "type": "contourcarpet"
           }
          ],
          "heatmap": [
           {
            "colorbar": {
             "outlinewidth": 0,
             "ticks": ""
            },
            "colorscale": [
             [
              0,
              "#0d0887"
             ],
             [
              0.1111111111111111,
              "#46039f"
             ],
             [
              0.2222222222222222,
              "#7201a8"
             ],
             [
              0.3333333333333333,
              "#9c179e"
             ],
             [
              0.4444444444444444,
              "#bd3786"
             ],
             [
              0.5555555555555556,
              "#d8576b"
             ],
             [
              0.6666666666666666,
              "#ed7953"
             ],
             [
              0.7777777777777778,
              "#fb9f3a"
             ],
             [
              0.8888888888888888,
              "#fdca26"
             ],
             [
              1,
              "#f0f921"
             ]
            ],
            "type": "heatmap"
           }
          ],
          "heatmapgl": [
           {
            "colorbar": {
             "outlinewidth": 0,
             "ticks": ""
            },
            "colorscale": [
             [
              0,
              "#0d0887"
             ],
             [
              0.1111111111111111,
              "#46039f"
             ],
             [
              0.2222222222222222,
              "#7201a8"
             ],
             [
              0.3333333333333333,
              "#9c179e"
             ],
             [
              0.4444444444444444,
              "#bd3786"
             ],
             [
              0.5555555555555556,
              "#d8576b"
             ],
             [
              0.6666666666666666,
              "#ed7953"
             ],
             [
              0.7777777777777778,
              "#fb9f3a"
             ],
             [
              0.8888888888888888,
              "#fdca26"
             ],
             [
              1,
              "#f0f921"
             ]
            ],
            "type": "heatmapgl"
           }
          ],
          "histogram": [
           {
            "marker": {
             "pattern": {
              "fillmode": "overlay",
              "size": 10,
              "solidity": 0.2
             }
            },
            "type": "histogram"
           }
          ],
          "histogram2d": [
           {
            "colorbar": {
             "outlinewidth": 0,
             "ticks": ""
            },
            "colorscale": [
             [
              0,
              "#0d0887"
             ],
             [
              0.1111111111111111,
              "#46039f"
             ],
             [
              0.2222222222222222,
              "#7201a8"
             ],
             [
              0.3333333333333333,
              "#9c179e"
             ],
             [
              0.4444444444444444,
              "#bd3786"
             ],
             [
              0.5555555555555556,
              "#d8576b"
             ],
             [
              0.6666666666666666,
              "#ed7953"
             ],
             [
              0.7777777777777778,
              "#fb9f3a"
             ],
             [
              0.8888888888888888,
              "#fdca26"
             ],
             [
              1,
              "#f0f921"
             ]
            ],
            "type": "histogram2d"
           }
          ],
          "histogram2dcontour": [
           {
            "colorbar": {
             "outlinewidth": 0,
             "ticks": ""
            },
            "colorscale": [
             [
              0,
              "#0d0887"
             ],
             [
              0.1111111111111111,
              "#46039f"
             ],
             [
              0.2222222222222222,
              "#7201a8"
             ],
             [
              0.3333333333333333,
              "#9c179e"
             ],
             [
              0.4444444444444444,
              "#bd3786"
             ],
             [
              0.5555555555555556,
              "#d8576b"
             ],
             [
              0.6666666666666666,
              "#ed7953"
             ],
             [
              0.7777777777777778,
              "#fb9f3a"
             ],
             [
              0.8888888888888888,
              "#fdca26"
             ],
             [
              1,
              "#f0f921"
             ]
            ],
            "type": "histogram2dcontour"
           }
          ],
          "mesh3d": [
           {
            "colorbar": {
             "outlinewidth": 0,
             "ticks": ""
            },
            "type": "mesh3d"
           }
          ],
          "parcoords": [
           {
            "line": {
             "colorbar": {
              "outlinewidth": 0,
              "ticks": ""
             }
            },
            "type": "parcoords"
           }
          ],
          "pie": [
           {
            "automargin": true,
            "type": "pie"
           }
          ],
          "scatter": [
           {
            "fillpattern": {
             "fillmode": "overlay",
             "size": 10,
             "solidity": 0.2
            },
            "type": "scatter"
           }
          ],
          "scatter3d": [
           {
            "line": {
             "colorbar": {
              "outlinewidth": 0,
              "ticks": ""
             }
            },
            "marker": {
             "colorbar": {
              "outlinewidth": 0,
              "ticks": ""
             }
            },
            "type": "scatter3d"
           }
          ],
          "scattercarpet": [
           {
            "marker": {
             "colorbar": {
              "outlinewidth": 0,
              "ticks": ""
             }
            },
            "type": "scattercarpet"
           }
          ],
          "scattergeo": [
           {
            "marker": {
             "colorbar": {
              "outlinewidth": 0,
              "ticks": ""
             }
            },
            "type": "scattergeo"
           }
          ],
          "scattergl": [
           {
            "marker": {
             "colorbar": {
              "outlinewidth": 0,
              "ticks": ""
             }
            },
            "type": "scattergl"
           }
          ],
          "scattermapbox": [
           {
            "marker": {
             "colorbar": {
              "outlinewidth": 0,
              "ticks": ""
             }
            },
            "type": "scattermapbox"
           }
          ],
          "scatterpolar": [
           {
            "marker": {
             "colorbar": {
              "outlinewidth": 0,
              "ticks": ""
             }
            },
            "type": "scatterpolar"
           }
          ],
          "scatterpolargl": [
           {
            "marker": {
             "colorbar": {
              "outlinewidth": 0,
              "ticks": ""
             }
            },
            "type": "scatterpolargl"
           }
          ],
          "scatterternary": [
           {
            "marker": {
             "colorbar": {
              "outlinewidth": 0,
              "ticks": ""
             }
            },
            "type": "scatterternary"
           }
          ],
          "surface": [
           {
            "colorbar": {
             "outlinewidth": 0,
             "ticks": ""
            },
            "colorscale": [
             [
              0,
              "#0d0887"
             ],
             [
              0.1111111111111111,
              "#46039f"
             ],
             [
              0.2222222222222222,
              "#7201a8"
             ],
             [
              0.3333333333333333,
              "#9c179e"
             ],
             [
              0.4444444444444444,
              "#bd3786"
             ],
             [
              0.5555555555555556,
              "#d8576b"
             ],
             [
              0.6666666666666666,
              "#ed7953"
             ],
             [
              0.7777777777777778,
              "#fb9f3a"
             ],
             [
              0.8888888888888888,
              "#fdca26"
             ],
             [
              1,
              "#f0f921"
             ]
            ],
            "type": "surface"
           }
          ],
          "table": [
           {
            "cells": {
             "fill": {
              "color": "#EBF0F8"
             },
             "line": {
              "color": "white"
             }
            },
            "header": {
             "fill": {
              "color": "#C8D4E3"
             },
             "line": {
              "color": "white"
             }
            },
            "type": "table"
           }
          ]
         },
         "layout": {
          "annotationdefaults": {
           "arrowcolor": "#2a3f5f",
           "arrowhead": 0,
           "arrowwidth": 1
          },
          "autotypenumbers": "strict",
          "coloraxis": {
           "colorbar": {
            "outlinewidth": 0,
            "ticks": ""
           }
          },
          "colorscale": {
           "diverging": [
            [
             0,
             "#8e0152"
            ],
            [
             0.1,
             "#c51b7d"
            ],
            [
             0.2,
             "#de77ae"
            ],
            [
             0.3,
             "#f1b6da"
            ],
            [
             0.4,
             "#fde0ef"
            ],
            [
             0.5,
             "#f7f7f7"
            ],
            [
             0.6,
             "#e6f5d0"
            ],
            [
             0.7,
             "#b8e186"
            ],
            [
             0.8,
             "#7fbc41"
            ],
            [
             0.9,
             "#4d9221"
            ],
            [
             1,
             "#276419"
            ]
           ],
           "sequential": [
            [
             0,
             "#0d0887"
            ],
            [
             0.1111111111111111,
             "#46039f"
            ],
            [
             0.2222222222222222,
             "#7201a8"
            ],
            [
             0.3333333333333333,
             "#9c179e"
            ],
            [
             0.4444444444444444,
             "#bd3786"
            ],
            [
             0.5555555555555556,
             "#d8576b"
            ],
            [
             0.6666666666666666,
             "#ed7953"
            ],
            [
             0.7777777777777778,
             "#fb9f3a"
            ],
            [
             0.8888888888888888,
             "#fdca26"
            ],
            [
             1,
             "#f0f921"
            ]
           ],
           "sequentialminus": [
            [
             0,
             "#0d0887"
            ],
            [
             0.1111111111111111,
             "#46039f"
            ],
            [
             0.2222222222222222,
             "#7201a8"
            ],
            [
             0.3333333333333333,
             "#9c179e"
            ],
            [
             0.4444444444444444,
             "#bd3786"
            ],
            [
             0.5555555555555556,
             "#d8576b"
            ],
            [
             0.6666666666666666,
             "#ed7953"
            ],
            [
             0.7777777777777778,
             "#fb9f3a"
            ],
            [
             0.8888888888888888,
             "#fdca26"
            ],
            [
             1,
             "#f0f921"
            ]
           ]
          },
          "colorway": [
           "#636efa",
           "#EF553B",
           "#00cc96",
           "#ab63fa",
           "#FFA15A",
           "#19d3f3",
           "#FF6692",
           "#B6E880",
           "#FF97FF",
           "#FECB52"
          ],
          "font": {
           "color": "#2a3f5f"
          },
          "geo": {
           "bgcolor": "white",
           "lakecolor": "white",
           "landcolor": "#E5ECF6",
           "showlakes": true,
           "showland": true,
           "subunitcolor": "white"
          },
          "hoverlabel": {
           "align": "left"
          },
          "hovermode": "closest",
          "mapbox": {
           "style": "light"
          },
          "paper_bgcolor": "white",
          "plot_bgcolor": "#E5ECF6",
          "polar": {
           "angularaxis": {
            "gridcolor": "white",
            "linecolor": "white",
            "ticks": ""
           },
           "bgcolor": "#E5ECF6",
           "radialaxis": {
            "gridcolor": "white",
            "linecolor": "white",
            "ticks": ""
           }
          },
          "scene": {
           "xaxis": {
            "backgroundcolor": "#E5ECF6",
            "gridcolor": "white",
            "gridwidth": 2,
            "linecolor": "white",
            "showbackground": true,
            "ticks": "",
            "zerolinecolor": "white"
           },
           "yaxis": {
            "backgroundcolor": "#E5ECF6",
            "gridcolor": "white",
            "gridwidth": 2,
            "linecolor": "white",
            "showbackground": true,
            "ticks": "",
            "zerolinecolor": "white"
           },
           "zaxis": {
            "backgroundcolor": "#E5ECF6",
            "gridcolor": "white",
            "gridwidth": 2,
            "linecolor": "white",
            "showbackground": true,
            "ticks": "",
            "zerolinecolor": "white"
           }
          },
          "shapedefaults": {
           "line": {
            "color": "#2a3f5f"
           }
          },
          "ternary": {
           "aaxis": {
            "gridcolor": "white",
            "linecolor": "white",
            "ticks": ""
           },
           "baxis": {
            "gridcolor": "white",
            "linecolor": "white",
            "ticks": ""
           },
           "bgcolor": "#E5ECF6",
           "caxis": {
            "gridcolor": "white",
            "linecolor": "white",
            "ticks": ""
           }
          },
          "title": {
           "x": 0.05
          },
          "xaxis": {
           "automargin": true,
           "gridcolor": "white",
           "linecolor": "white",
           "ticks": "",
           "title": {
            "standoff": 15
           },
           "zerolinecolor": "white",
           "zerolinewidth": 2
          },
          "yaxis": {
           "automargin": true,
           "gridcolor": "white",
           "linecolor": "white",
           "ticks": "",
           "title": {
            "standoff": 15
           },
           "zerolinecolor": "white",
           "zerolinewidth": 2
          }
         }
        },
        "title": {
         "text": "2020-07-19"
        },
        "xaxis": {
         "anchor": "y",
         "domain": [
          0,
          1
         ],
         "title": {
          "text": "2020-07-19"
         },
         "type": "date"
        },
        "yaxis": {
         "anchor": "x",
         "autorange": "reversed",
         "domain": [
          0,
          1
         ],
         "title": {
          "text": "Task"
         }
        }
       }
      }
     },
     "metadata": {},
     "output_type": "display_data"
    },
    {
     "data": {
      "application/vnd.plotly.v1+json": {
       "config": {
        "plotlyServerURL": "https://plot.ly"
       },
       "data": [
        {
         "alignmentgroup": "True",
         "base": [
          "2020-07-20T00:32:06.858072",
          "2020-07-20T03:42:48.203069",
          "2020-07-20T06:24:13.467286",
          "2020-07-20T08:00:39.864613",
          "2020-07-20T10:56:22.794267",
          "2020-07-20T13:18:35.419818",
          "2020-07-20T18:05:32.040901",
          "2020-07-20T20:24:53.513683"
         ],
         "hovertemplate": "Person=Lacy Valencia<br>Start=%{base}<br>Finish=%{x}<br>Task=%{y}<extra></extra>",
         "legendgroup": "Lacy Valencia",
         "marker": {
          "color": "#636efa",
          "pattern": {
           "shape": ""
          }
         },
         "name": "Lacy Valencia",
         "offsetgroup": "Lacy Valencia",
         "orientation": "h",
         "showlegend": true,
         "textposition": "auto",
         "type": "bar",
         "x": [
          2280000,
          3910868.294,
          3180000,
          2460000,
          2940000,
          3540000,
          3660088.805,
          1800000
         ],
         "xaxis": "x",
         "y": [
          "Lacy Valencia",
          "Lacy Valencia",
          "Lacy Valencia",
          "Lacy Valencia",
          "Lacy Valencia",
          "Lacy Valencia",
          "Lacy Valencia",
          "Lacy Valencia"
         ],
         "yaxis": "y"
        },
        {
         "alignmentgroup": "True",
         "base": [
          "2020-07-20T07:41:47.642723",
          "2020-07-20T11:38:54.217227",
          "2020-07-20T15:24:45.949224",
          "2020-07-20T16:51:13.731953",
          "2020-07-20T23:28:56.393265"
         ],
         "hovertemplate": "Person=Joeann Velazquez<br>Start=%{base}<br>Finish=%{x}<br>Task=%{y}<extra></extra>",
         "legendgroup": "Joeann Velazquez",
         "marker": {
          "color": "#EF553B",
          "pattern": {
           "shape": ""
          }
         },
         "name": "Joeann Velazquez",
         "offsetgroup": "Joeann Velazquez",
         "orientation": "h",
         "showlegend": true,
         "textposition": "auto",
         "type": "bar",
         "x": [
          1920000,
          2520000,
          3540000,
          10174944.394,
          2040000
         ],
         "xaxis": "x",
         "y": [
          "Joeann Velazquez",
          "Joeann Velazquez",
          "Joeann Velazquez",
          "Joeann Velazquez",
          "Joeann Velazquez"
         ],
         "yaxis": "y"
        },
        {
         "alignmentgroup": "True",
         "base": [
          "2020-07-20T00:20:49.372325",
          "2020-07-20T02:49:54.881977",
          "2020-07-20T07:29:34.272367",
          "2020-07-20T08:55:47.574150",
          "2020-07-20T10:18:14.949071",
          "2020-07-20T15:09:37.996735",
          "2020-07-20T18:40:01.775749",
          "2020-07-20T20:21:44.527660"
         ],
         "hovertemplate": "Person=Yon Mathis<br>Start=%{base}<br>Finish=%{x}<br>Task=%{y}<extra></extra>",
         "legendgroup": "Yon Mathis",
         "marker": {
          "color": "#00cc96",
          "pattern": {
           "shape": ""
          }
         },
         "name": "Yon Mathis",
         "offsetgroup": "Yon Mathis",
         "orientation": "h",
         "showlegend": true,
         "textposition": "auto",
         "type": "bar",
         "x": [
          2957485.747,
          1920000,
          4325592.246,
          2760000,
          7359268.156,
          4447952.489,
          2760000,
          3480000
         ],
         "xaxis": "x",
         "y": [
          "Yon Mathis",
          "Yon Mathis",
          "Yon Mathis",
          "Yon Mathis",
          "Yon Mathis",
          "Yon Mathis",
          "Yon Mathis",
          "Yon Mathis"
         ],
         "yaxis": "y"
        }
       ],
       "layout": {
        "barmode": "overlay",
        "legend": {
         "title": {
          "text": "Person"
         },
         "tracegroupgap": 0
        },
        "template": {
         "data": {
          "bar": [
           {
            "error_x": {
             "color": "#2a3f5f"
            },
            "error_y": {
             "color": "#2a3f5f"
            },
            "marker": {
             "line": {
              "color": "#E5ECF6",
              "width": 0.5
             },
             "pattern": {
              "fillmode": "overlay",
              "size": 10,
              "solidity": 0.2
             }
            },
            "type": "bar"
           }
          ],
          "barpolar": [
           {
            "marker": {
             "line": {
              "color": "#E5ECF6",
              "width": 0.5
             },
             "pattern": {
              "fillmode": "overlay",
              "size": 10,
              "solidity": 0.2
             }
            },
            "type": "barpolar"
           }
          ],
          "carpet": [
           {
            "aaxis": {
             "endlinecolor": "#2a3f5f",
             "gridcolor": "white",
             "linecolor": "white",
             "minorgridcolor": "white",
             "startlinecolor": "#2a3f5f"
            },
            "baxis": {
             "endlinecolor": "#2a3f5f",
             "gridcolor": "white",
             "linecolor": "white",
             "minorgridcolor": "white",
             "startlinecolor": "#2a3f5f"
            },
            "type": "carpet"
           }
          ],
          "choropleth": [
           {
            "colorbar": {
             "outlinewidth": 0,
             "ticks": ""
            },
            "type": "choropleth"
           }
          ],
          "contour": [
           {
            "colorbar": {
             "outlinewidth": 0,
             "ticks": ""
            },
            "colorscale": [
             [
              0,
              "#0d0887"
             ],
             [
              0.1111111111111111,
              "#46039f"
             ],
             [
              0.2222222222222222,
              "#7201a8"
             ],
             [
              0.3333333333333333,
              "#9c179e"
             ],
             [
              0.4444444444444444,
              "#bd3786"
             ],
             [
              0.5555555555555556,
              "#d8576b"
             ],
             [
              0.6666666666666666,
              "#ed7953"
             ],
             [
              0.7777777777777778,
              "#fb9f3a"
             ],
             [
              0.8888888888888888,
              "#fdca26"
             ],
             [
              1,
              "#f0f921"
             ]
            ],
            "type": "contour"
           }
          ],
          "contourcarpet": [
           {
            "colorbar": {
             "outlinewidth": 0,
             "ticks": ""
            },
            "type": "contourcarpet"
           }
          ],
          "heatmap": [
           {
            "colorbar": {
             "outlinewidth": 0,
             "ticks": ""
            },
            "colorscale": [
             [
              0,
              "#0d0887"
             ],
             [
              0.1111111111111111,
              "#46039f"
             ],
             [
              0.2222222222222222,
              "#7201a8"
             ],
             [
              0.3333333333333333,
              "#9c179e"
             ],
             [
              0.4444444444444444,
              "#bd3786"
             ],
             [
              0.5555555555555556,
              "#d8576b"
             ],
             [
              0.6666666666666666,
              "#ed7953"
             ],
             [
              0.7777777777777778,
              "#fb9f3a"
             ],
             [
              0.8888888888888888,
              "#fdca26"
             ],
             [
              1,
              "#f0f921"
             ]
            ],
            "type": "heatmap"
           }
          ],
          "heatmapgl": [
           {
            "colorbar": {
             "outlinewidth": 0,
             "ticks": ""
            },
            "colorscale": [
             [
              0,
              "#0d0887"
             ],
             [
              0.1111111111111111,
              "#46039f"
             ],
             [
              0.2222222222222222,
              "#7201a8"
             ],
             [
              0.3333333333333333,
              "#9c179e"
             ],
             [
              0.4444444444444444,
              "#bd3786"
             ],
             [
              0.5555555555555556,
              "#d8576b"
             ],
             [
              0.6666666666666666,
              "#ed7953"
             ],
             [
              0.7777777777777778,
              "#fb9f3a"
             ],
             [
              0.8888888888888888,
              "#fdca26"
             ],
             [
              1,
              "#f0f921"
             ]
            ],
            "type": "heatmapgl"
           }
          ],
          "histogram": [
           {
            "marker": {
             "pattern": {
              "fillmode": "overlay",
              "size": 10,
              "solidity": 0.2
             }
            },
            "type": "histogram"
           }
          ],
          "histogram2d": [
           {
            "colorbar": {
             "outlinewidth": 0,
             "ticks": ""
            },
            "colorscale": [
             [
              0,
              "#0d0887"
             ],
             [
              0.1111111111111111,
              "#46039f"
             ],
             [
              0.2222222222222222,
              "#7201a8"
             ],
             [
              0.3333333333333333,
              "#9c179e"
             ],
             [
              0.4444444444444444,
              "#bd3786"
             ],
             [
              0.5555555555555556,
              "#d8576b"
             ],
             [
              0.6666666666666666,
              "#ed7953"
             ],
             [
              0.7777777777777778,
              "#fb9f3a"
             ],
             [
              0.8888888888888888,
              "#fdca26"
             ],
             [
              1,
              "#f0f921"
             ]
            ],
            "type": "histogram2d"
           }
          ],
          "histogram2dcontour": [
           {
            "colorbar": {
             "outlinewidth": 0,
             "ticks": ""
            },
            "colorscale": [
             [
              0,
              "#0d0887"
             ],
             [
              0.1111111111111111,
              "#46039f"
             ],
             [
              0.2222222222222222,
              "#7201a8"
             ],
             [
              0.3333333333333333,
              "#9c179e"
             ],
             [
              0.4444444444444444,
              "#bd3786"
             ],
             [
              0.5555555555555556,
              "#d8576b"
             ],
             [
              0.6666666666666666,
              "#ed7953"
             ],
             [
              0.7777777777777778,
              "#fb9f3a"
             ],
             [
              0.8888888888888888,
              "#fdca26"
             ],
             [
              1,
              "#f0f921"
             ]
            ],
            "type": "histogram2dcontour"
           }
          ],
          "mesh3d": [
           {
            "colorbar": {
             "outlinewidth": 0,
             "ticks": ""
            },
            "type": "mesh3d"
           }
          ],
          "parcoords": [
           {
            "line": {
             "colorbar": {
              "outlinewidth": 0,
              "ticks": ""
             }
            },
            "type": "parcoords"
           }
          ],
          "pie": [
           {
            "automargin": true,
            "type": "pie"
           }
          ],
          "scatter": [
           {
            "fillpattern": {
             "fillmode": "overlay",
             "size": 10,
             "solidity": 0.2
            },
            "type": "scatter"
           }
          ],
          "scatter3d": [
           {
            "line": {
             "colorbar": {
              "outlinewidth": 0,
              "ticks": ""
             }
            },
            "marker": {
             "colorbar": {
              "outlinewidth": 0,
              "ticks": ""
             }
            },
            "type": "scatter3d"
           }
          ],
          "scattercarpet": [
           {
            "marker": {
             "colorbar": {
              "outlinewidth": 0,
              "ticks": ""
             }
            },
            "type": "scattercarpet"
           }
          ],
          "scattergeo": [
           {
            "marker": {
             "colorbar": {
              "outlinewidth": 0,
              "ticks": ""
             }
            },
            "type": "scattergeo"
           }
          ],
          "scattergl": [
           {
            "marker": {
             "colorbar": {
              "outlinewidth": 0,
              "ticks": ""
             }
            },
            "type": "scattergl"
           }
          ],
          "scattermapbox": [
           {
            "marker": {
             "colorbar": {
              "outlinewidth": 0,
              "ticks": ""
             }
            },
            "type": "scattermapbox"
           }
          ],
          "scatterpolar": [
           {
            "marker": {
             "colorbar": {
              "outlinewidth": 0,
              "ticks": ""
             }
            },
            "type": "scatterpolar"
           }
          ],
          "scatterpolargl": [
           {
            "marker": {
             "colorbar": {
              "outlinewidth": 0,
              "ticks": ""
             }
            },
            "type": "scatterpolargl"
           }
          ],
          "scatterternary": [
           {
            "marker": {
             "colorbar": {
              "outlinewidth": 0,
              "ticks": ""
             }
            },
            "type": "scatterternary"
           }
          ],
          "surface": [
           {
            "colorbar": {
             "outlinewidth": 0,
             "ticks": ""
            },
            "colorscale": [
             [
              0,
              "#0d0887"
             ],
             [
              0.1111111111111111,
              "#46039f"
             ],
             [
              0.2222222222222222,
              "#7201a8"
             ],
             [
              0.3333333333333333,
              "#9c179e"
             ],
             [
              0.4444444444444444,
              "#bd3786"
             ],
             [
              0.5555555555555556,
              "#d8576b"
             ],
             [
              0.6666666666666666,
              "#ed7953"
             ],
             [
              0.7777777777777778,
              "#fb9f3a"
             ],
             [
              0.8888888888888888,
              "#fdca26"
             ],
             [
              1,
              "#f0f921"
             ]
            ],
            "type": "surface"
           }
          ],
          "table": [
           {
            "cells": {
             "fill": {
              "color": "#EBF0F8"
             },
             "line": {
              "color": "white"
             }
            },
            "header": {
             "fill": {
              "color": "#C8D4E3"
             },
             "line": {
              "color": "white"
             }
            },
            "type": "table"
           }
          ]
         },
         "layout": {
          "annotationdefaults": {
           "arrowcolor": "#2a3f5f",
           "arrowhead": 0,
           "arrowwidth": 1
          },
          "autotypenumbers": "strict",
          "coloraxis": {
           "colorbar": {
            "outlinewidth": 0,
            "ticks": ""
           }
          },
          "colorscale": {
           "diverging": [
            [
             0,
             "#8e0152"
            ],
            [
             0.1,
             "#c51b7d"
            ],
            [
             0.2,
             "#de77ae"
            ],
            [
             0.3,
             "#f1b6da"
            ],
            [
             0.4,
             "#fde0ef"
            ],
            [
             0.5,
             "#f7f7f7"
            ],
            [
             0.6,
             "#e6f5d0"
            ],
            [
             0.7,
             "#b8e186"
            ],
            [
             0.8,
             "#7fbc41"
            ],
            [
             0.9,
             "#4d9221"
            ],
            [
             1,
             "#276419"
            ]
           ],
           "sequential": [
            [
             0,
             "#0d0887"
            ],
            [
             0.1111111111111111,
             "#46039f"
            ],
            [
             0.2222222222222222,
             "#7201a8"
            ],
            [
             0.3333333333333333,
             "#9c179e"
            ],
            [
             0.4444444444444444,
             "#bd3786"
            ],
            [
             0.5555555555555556,
             "#d8576b"
            ],
            [
             0.6666666666666666,
             "#ed7953"
            ],
            [
             0.7777777777777778,
             "#fb9f3a"
            ],
            [
             0.8888888888888888,
             "#fdca26"
            ],
            [
             1,
             "#f0f921"
            ]
           ],
           "sequentialminus": [
            [
             0,
             "#0d0887"
            ],
            [
             0.1111111111111111,
             "#46039f"
            ],
            [
             0.2222222222222222,
             "#7201a8"
            ],
            [
             0.3333333333333333,
             "#9c179e"
            ],
            [
             0.4444444444444444,
             "#bd3786"
            ],
            [
             0.5555555555555556,
             "#d8576b"
            ],
            [
             0.6666666666666666,
             "#ed7953"
            ],
            [
             0.7777777777777778,
             "#fb9f3a"
            ],
            [
             0.8888888888888888,
             "#fdca26"
            ],
            [
             1,
             "#f0f921"
            ]
           ]
          },
          "colorway": [
           "#636efa",
           "#EF553B",
           "#00cc96",
           "#ab63fa",
           "#FFA15A",
           "#19d3f3",
           "#FF6692",
           "#B6E880",
           "#FF97FF",
           "#FECB52"
          ],
          "font": {
           "color": "#2a3f5f"
          },
          "geo": {
           "bgcolor": "white",
           "lakecolor": "white",
           "landcolor": "#E5ECF6",
           "showlakes": true,
           "showland": true,
           "subunitcolor": "white"
          },
          "hoverlabel": {
           "align": "left"
          },
          "hovermode": "closest",
          "mapbox": {
           "style": "light"
          },
          "paper_bgcolor": "white",
          "plot_bgcolor": "#E5ECF6",
          "polar": {
           "angularaxis": {
            "gridcolor": "white",
            "linecolor": "white",
            "ticks": ""
           },
           "bgcolor": "#E5ECF6",
           "radialaxis": {
            "gridcolor": "white",
            "linecolor": "white",
            "ticks": ""
           }
          },
          "scene": {
           "xaxis": {
            "backgroundcolor": "#E5ECF6",
            "gridcolor": "white",
            "gridwidth": 2,
            "linecolor": "white",
            "showbackground": true,
            "ticks": "",
            "zerolinecolor": "white"
           },
           "yaxis": {
            "backgroundcolor": "#E5ECF6",
            "gridcolor": "white",
            "gridwidth": 2,
            "linecolor": "white",
            "showbackground": true,
            "ticks": "",
            "zerolinecolor": "white"
           },
           "zaxis": {
            "backgroundcolor": "#E5ECF6",
            "gridcolor": "white",
            "gridwidth": 2,
            "linecolor": "white",
            "showbackground": true,
            "ticks": "",
            "zerolinecolor": "white"
           }
          },
          "shapedefaults": {
           "line": {
            "color": "#2a3f5f"
           }
          },
          "ternary": {
           "aaxis": {
            "gridcolor": "white",
            "linecolor": "white",
            "ticks": ""
           },
           "baxis": {
            "gridcolor": "white",
            "linecolor": "white",
            "ticks": ""
           },
           "bgcolor": "#E5ECF6",
           "caxis": {
            "gridcolor": "white",
            "linecolor": "white",
            "ticks": ""
           }
          },
          "title": {
           "x": 0.05
          },
          "xaxis": {
           "automargin": true,
           "gridcolor": "white",
           "linecolor": "white",
           "ticks": "",
           "title": {
            "standoff": 15
           },
           "zerolinecolor": "white",
           "zerolinewidth": 2
          },
          "yaxis": {
           "automargin": true,
           "gridcolor": "white",
           "linecolor": "white",
           "ticks": "",
           "title": {
            "standoff": 15
           },
           "zerolinecolor": "white",
           "zerolinewidth": 2
          }
         }
        },
        "title": {
         "text": "2020-07-20"
        },
        "xaxis": {
         "anchor": "y",
         "domain": [
          0,
          1
         ],
         "title": {
          "text": "2020-07-20"
         },
         "type": "date"
        },
        "yaxis": {
         "anchor": "x",
         "autorange": "reversed",
         "domain": [
          0,
          1
         ],
         "title": {
          "text": "Task"
         }
        }
       }
      }
     },
     "metadata": {},
     "output_type": "display_data"
    }
   ],
   "source": [
    "\n",
    "from datetime import date\n",
    "import pandas as pd\n",
    "import plotly.express as px\n",
    "\n",
    "class MyCal:\n",
    "    def __init__(self, start_year=2020, end_year=2020, n_persons=2, n_days=7, min_activites=1, max_activites=4):\n",
    "        self.schedules = SceduleGenerator(start_year=start_year, end_year=end_year, n_persons=n_persons, n_days=n_days, min_activites=min_activites, max_activites=max_activites).schedules\n",
    "        self.persons = list(self.schedules.keys())\n",
    "        # self.print_schedules()\n",
    "        \n",
    "    def merge_intervals(self,intervals):\n",
    "        # Sort the intervals based on the start time\n",
    "        intervals_sorted = sorted(intervals, key=lambda x: x['start'])\n",
    "\n",
    "        merged = []\n",
    "        for interval in intervals_sorted:\n",
    "            # If merged is empty or if current interval doesn't overlap with the previous one\n",
    "            if not merged or merged[-1]['end'] < interval['start']:\n",
    "                merged.append(interval)\n",
    "            else:\n",
    "                # Update the end time of the previous interval if necessary\n",
    "                merged[-1]['end'] = max(merged[-1]['end'], interval['end'])\n",
    "\n",
    "        return merged\n",
    "        \n",
    "    def print_schedules(self):\n",
    "        for k,v in self.schedules.items():\n",
    "            print(f\"\\n{k}\")\n",
    "            for day in v:\n",
    "                print(f\"{day['date']}\")\n",
    "                for activity in day['activities']:\n",
    "                    print(f\"  {activity['start']} - {activity['end']}\")\n",
    "        \n",
    "    def check_conflicts(self):\n",
    "        NotImplemented\n",
    "    \n",
    "    def get_earliest_availability(self, person:str):\n",
    "        earliest_availability_of_person_by_date = defaultdict(dict)\n",
    "        # # print(person,schedules[person])\n",
    "        for schedule in self.schedules[person]:\n",
    "            curr_date = schedule['date']\n",
    "            # print(person,curr_date)\n",
    "            earliest_availability_of_person_by_date[person][curr_date] = datetime.combine(date.max, datetime.max.time())\n",
    "            for activity in schedule['activities']:\n",
    "                if activity['end'] <= earliest_availability_of_person_by_date[person][curr_date]:\n",
    "                    earliest_availability_of_person_by_date[person][curr_date] = activity['end']\n",
    "                    \n",
    "        for k,v in earliest_availability_of_person_by_date[person].items():\n",
    "            print(f\"{person} on {k} is first free after {v}\")\n",
    "                \n",
    "        return earliest_availability_of_person_by_date\n",
    "        \n",
    "    def get_all_earliest_availability(self):\n",
    "        time_slots = defaultdict(list)\n",
    "        for person in self.schedules:\n",
    "            for date in self.schedules[person]:\n",
    "                for activity in date['activities']:\n",
    "                    time_slots[date['date']].append(activity)\n",
    "                    \n",
    "        # print(time_slots)\n",
    "        busy_times_by_date = defaultdict(list)\n",
    "        for k,v in time_slots.items():\n",
    "            merged = self.merge_intervals(intervals=v)\n",
    "            # print((merged))\n",
    "            for activity in merged:\n",
    "                busy_times_by_date[k].append([activity['start'],activity['end']])\n",
    "                # print(k,activity['start'],activity['end'])\n",
    "            print(f\"Earliest time on {k} is {merged[0]['end']}\")\n",
    "            \n",
    "        print(busy_times_by_date)\n",
    "        return busy_times_by_date\n",
    "\n",
    "    def visualize_calendar(self):\n",
    "        \n",
    "        gantt_charts = defaultdict(list)\n",
    "        for person in self.schedules:\n",
    "            for date in self.schedules[person]: \n",
    "                for activity in date['activities']:\n",
    "                    gantt_charts[date['date']].append(dict(Task=f\"{person}\",Start=activity['start'],Finish=activity['end'],Person=f\"{person}\"))\n",
    "        \n",
    "        for date in gantt_charts:\n",
    "            df = pd.DataFrame(gantt_charts[date])\n",
    "            fig = px.timeline(df, x_start=\"Start\", x_end=\"Finish\", y=\"Task\", \n",
    "            color=\"Person\",title=f\"{date}\")\n",
    "\n",
    "            fig.update_layout(xaxis=dict(\n",
    "                            title=f'{date}', \n",
    "                            # tickformat = '%S'\n",
    "                            ))\n",
    "            fig.update_yaxes(autorange=\"reversed\")\n",
    "            fig.show()\n",
    "        \n",
    "\n",
    "    \n",
    "def main():\n",
    "    my_cal = MyCal(n_persons=3,n_days=2,min_activites=10,max_activites=10)\n",
    "    for person in my_cal.persons:\n",
    "        my_cal.get_earliest_availability(person=person)\n",
    "        \n",
    "    my_cal.get_all_earliest_availability()\n",
    "    my_cal.visualize_calendar()\n",
    "        \n",
    "        \n",
    "if __name__ == \"__main__\":   \n",
    "    main()"
   ]
  }
 ],
 "metadata": {
  "kernelspec": {
   "display_name": "Python 3",
   "language": "python",
   "name": "python3"
  },
  "language_info": {
   "codemirror_mode": {
    "name": "ipython",
    "version": 3
   },
   "file_extension": ".py",
   "mimetype": "text/x-python",
   "name": "python",
   "nbconvert_exporter": "python",
   "pygments_lexer": "ipython3",
   "version": "3.8.10"
  }
 },
 "nbformat": 4,
 "nbformat_minor": 2
}
