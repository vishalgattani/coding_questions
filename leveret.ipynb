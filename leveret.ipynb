{
 "cells": [
  {
   "cell_type": "markdown",
   "metadata": {},
   "source": [
    "Baby Leveret is hopping down the garden trail in a quest to devour as many carrots as she can.\n",
    "Each plot along the trail contains a certain number of carrots. We can represent the number of carrots in each plot as an element in an array of integers, where each number represents a plot:\n",
    "\n",
    "        [4, 5, 3, 5]\n",
    "Baby leverets can only eat a total of 10 carrots, and not any more. Given an array formatted like the one above, a baby leveret could eat 2 full plots of carrots. Here’s an explanation.\n",
    "\n",
    "        # Baby Leveret starts at the garden gate\n",
    "\n",
    "        [4, 5, 3, 5]    4 carrots eaten, 1 plot consumed\n",
    "         ?\n",
    "\n",
    "        [4, 5, 3, 5]    9 carrots eaten, 2 plots consumed\n",
    "           ?\n",
    "\n",
    "        [4, 5, 3, 5]    12 carrots eaten - too many! Stop here.\n",
    "              ?\n",
    "# The Challenge\n",
    "\n",
    "Write a function that takes in an array of integers that represent the number of carrots in each plot in a garden trail. This function should return the number of plots a baby leveret will eat, only counting plots that can be eaten in completion. (A leveret can’t eat part of a plot.)"
   ]
  },
  {
   "cell_type": "code",
   "execution_count": 6,
   "metadata": {},
   "outputs": [
    {
     "name": "stdout",
     "output_type": "stream",
     "text": [
      "Carrots eaten: 9\n",
      "Plots eaten: 2\n"
     ]
    }
   ],
   "source": [
    "def eat(carrot_plots,max_carrots=10):\n",
    "    carrots_eaten = 0\n",
    "    plots_eaten = 0\n",
    "    for i, carrots in enumerate(carrot_plots):\n",
    "        if carrots_eaten + carrots < max_carrots:\n",
    "            carrots_eaten += carrots\n",
    "            plots_eaten += 1\n",
    "    return carrots_eaten, plots_eaten\n",
    "    \n",
    "carrots_eaten, plots_eaten = eat([4, 5, 3, 5])\n",
    "print(f\"Carrots eaten: {carrots_eaten}\")\n",
    "print(f\"Plots eaten: {plots_eaten}\")"
   ]
  },
  {
   "cell_type": "markdown",
   "metadata": {
    "vscode": {
     "languageId": "plaintext"
    }
   },
   "source": [
    "Our hero, Baby Leveret, starts in the middle of a garden and eats carrots until she falls asleep.\n",
    "The garden is a grid that is nrows tall and ncols wide. Each plot in the garden has a particular number of carrots in it.\n",
    "\n",
    "Baby Leveret will dig a little tunnel all the way to the center of the garden, where she’ll start her feast. If the center of the garden consists of more than one plot, she’ll choose the plot with the most number of carrots to start (assume there will never be a tie between multiple plots) and eat allllll the carrots there.\n",
    "\n",
    "Then, she’ll look around at neighboring plot to sniff out the one with the most carrots. She always sniffs the plot to her west first (left), then north (up), then east (right), then south (down); if there are two or more plots that tie for the highest number of carrots, she’ll hop to the first plot her nose encountered (that is, the first plot she encountered in west-north-east-south order).\n",
    "Once there are no neighboring cells with carrots, she falls asleep for a well-deserved nap.\n",
    "For example, consider this garden:\n",
    "\n",
    "         A   B   C   D   E   F   G\n",
    "       +---------------------------+\n",
    "    1  | 2 | 3 | 1 | 4 | 2 | 2 | 3 |\n",
    "       |---+---+---+---+---+---+---|\n",
    "    2  | 2 | 3 | 0 | 4 | 0 | 3 | 0 |\n",
    "       |---+---+---+---+---+---+---|\n",
    "    3  | 1 | 7 | 0 | 2 | 1 | 2 | 3 |\n",
    "       |---+---+---+---+---+---+---|\n",
    "    4  | 9 | 3 | 0 | 4 | 2 | 0 | 3 |\n",
    "       +---------------------------+\n",
    "There are two center cells, at D2 and D3. The cell at D2 has more carrots (4 versus 2), so Baby Leveret starts there and eats the 4 carrots at D2.\n",
    "\n",
    "She then looks at the neighbors in WNES order and finds the highest carrot count is at D1. She eats the 4 carrots there.\n",
    "\n",
    "Looking WNES, she finds there are more carrots at E1, and moves there and eats the 2 carrots there.\n",
    "\n",
    "Looking WNES, she sees more carrots at F1, and moves there and eats the 2 carrots there.\n",
    "\n",
    "Looking WNES, she sees 3 carrots both east and south — but since there’s a tie, she goes in WNES order, so heads east and eats the 3 carrots at G1.\n",
    "\n",
    "Looking WNES, she finds only neighbors with 0 carrots, so she takes her post-lunch nap.\n",
    "\n",
    "In total, she’s eaten 4 + 4 + 2 + 2 + 3 = 15 carrots.\n",
    "\n",
    "# The Challenge\n",
    "Write a function that takes in a 2-dimensional array that represents garden plots and the amount of carrots each plot contains. This function should return the number of carrots eaten by Baby Leveret."
   ]
  },
  {
   "cell_type": "code",
   "execution_count": 1,
   "metadata": {},
   "outputs": [
    {
     "name": "stdout",
     "output_type": "stream",
     "text": [
      "15\n"
     ]
    }
   ],
   "source": [
    "from typing import List\n",
    "\n",
    "class Solution:\n",
    "    def __init__(self,garden:List[List]) -> None:\n",
    "        self.garden = garden\n",
    "        self.m = len(garden)\n",
    "        self.n = len(garden[0])\n",
    "        self.result = self.eat_carrots()    \n",
    "    \n",
    "        \n",
    "    def eat_carrots(self):\n",
    "        centers = self.find_centers()\n",
    "        crow,ccol = self.find_max_carrot_center(centers)\n",
    "        total_carrots = 0\n",
    "        curr_row, curr_col = crow, ccol\n",
    "        while True:\n",
    "            total_carrots += self.garden[curr_row][curr_col]\n",
    "            self.garden[curr_row][curr_col] = 0\n",
    "            neighbors = self.get_neighbors(curr_row,curr_col)\n",
    "            next_neighbor = max(neighbors,key=lambda pos:self.garden[pos[0]][pos[1]])\n",
    "            if self.garden[next_neighbor[0]][next_neighbor[1]] == 0:\n",
    "                break\n",
    "            curr_row, curr_col = next_neighbor[0],next_neighbor[1]\n",
    "        return total_carrots\n",
    "            \n",
    "        \n",
    "    def get_neighbors(self,r,c):\n",
    "        directions = [(0,-1),(-1,0),(0,1),(1,0)]\n",
    "        possible_dirs = [(r+dx,c+dy) for dx,dy in directions if 0<=r+dx<self.m and 0<=c+dy<self.n]\n",
    "        return possible_dirs\n",
    "        \n",
    "    def find_centers(self):\n",
    "        crows = self.m//2\n",
    "        ccols = self.n//2\n",
    "        if self.m % 2 == 0:\n",
    "            centers = [(crows-1,ccols),(crows+1,ccols),(crows,ccols-1),(crows,ccols+1)]\n",
    "        else:\n",
    "            centers = [(crows,ccols)]\n",
    "        return centers\n",
    "    \n",
    "    def find_max_carrot_center(self,centers):\n",
    "        crow, ccol = max(centers, key=lambda pos: self.garden[pos[0]][pos[1]])\n",
    "        return (crow, ccol)\n",
    "    \n",
    "    \n",
    "if __name__ == \"__main__\":\n",
    "    garden = [\n",
    "    [2, 3, 1, 4, 2, 2, 3],\n",
    "    [2, 3, 0, 4, 0, 3, 0],\n",
    "    [1, 7, 0, 2, 1, 2, 3],\n",
    "    [9, 3, 0, 4, 2, 0, 3]\n",
    "]\n",
    "    print(Solution(garden=garden).result)"
   ]
  },
  {
   "cell_type": "markdown",
   "metadata": {},
   "source": []
  }
 ],
 "metadata": {
  "kernelspec": {
   "display_name": "Python 3",
   "language": "python",
   "name": "python3"
  },
  "language_info": {
   "codemirror_mode": {
    "name": "ipython",
    "version": 3
   },
   "file_extension": ".py",
   "mimetype": "text/x-python",
   "name": "python",
   "nbconvert_exporter": "python",
   "pygments_lexer": "ipython3",
   "version": "3.8.10"
  }
 },
 "nbformat": 4,
 "nbformat_minor": 2
}
